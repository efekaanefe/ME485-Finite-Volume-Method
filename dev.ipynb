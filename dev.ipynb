{
  "cells": [
    {
      "cell_type": "code",
      "execution_count": 1,
      "metadata": {
        "id": "gI_plbeGwfnY"
      },
      "outputs": [],
      "source": [
        "import numpy as np\n",
        "import matplotlib.pyplot as plt"
      ]
    },
    {
      "cell_type": "markdown",
      "source": [
        "## 1D Steady Heat Conduction"
      ],
      "metadata": {
        "id": "cH0BznD_wgnb"
      }
    },
    {
      "cell_type": "code",
      "execution_count": 40,
      "metadata": {
        "id": "qk1aQkEKwfnZ"
      },
      "outputs": [],
      "source": [
        "# Initialize parameters of the question\n",
        "k = 50 # Thermal conductivity, W/K\n",
        "L = 0.1 # m\n",
        "A = 75e-6 # m^2\n",
        "cp = 0.1 # Specific heat capacity, J/(kg * K)\n",
        "rho = 0.1 # kg/m^3\n",
        "# C = cp*rho # J/K, volume specific\n",
        "\n",
        "# boundary conditions\n",
        "T_L = 390 # K, x=0\n",
        "T_R = 290 # K, x=L\n"
      ]
    },
    {
      "cell_type": "code",
      "source": [
        "# discretize the space\n",
        "n_elem = 10\n",
        "n_nodes = n_elem + 1\n",
        "l_elem = L/n_elem\n",
        "dx = l_elem\n",
        "elem_x = np.linspace(l_elem/2, L-l_elem/2, n_elem)\n",
        "nodes_x = np.linspace(0, L, n_nodes)\n",
        "print(\"Positions of nodes\", nodes_x)\n",
        "\n",
        "n_dof = n_elem # degree of freedom of the system\n",
        "\n",
        "CON = [] # connectivity\n",
        "for i in range(n_elem):\n",
        "    CON.append([i, i+1])\n",
        "print(\"Connectivty\", CON)\n",
        "\n",
        "class Element:\n",
        "    def __init__(self, nodes, x, k, cp, rho, l):\n",
        "        self.nodes = nodes\n",
        "        self.x = x\n",
        "        self.k = k\n",
        "        self.cp = cp\n",
        "        self.rho = rho\n",
        "        self.l = l\n",
        "\n",
        "    def __repr__(self):\n",
        "        return f\"Element(nodes={self.nodes})\"\n",
        "\n",
        "# create elements\n",
        "elements = []\n",
        "for i in range(n_elem):\n",
        "    x = l_elem*(i+0.5)\n",
        "    elements.append(Element(CON[i], elem_x[i], k, cp, rho, l_elem))\n",
        "\n",
        "print(\"Elements\", elements)\n",
        "\n",
        "\n",
        "# discretize the time\n",
        "t_final = 1\n",
        "dt = 0.1\n",
        "t = np.arange(0, t_final, dt)\n",
        "print(\"Time values\", t)\n"
      ],
      "metadata": {
        "colab": {
          "base_uri": "https://localhost:8080/"
        },
        "id": "f6fz82k4ymj6",
        "outputId": "1af00d1f-3f3d-472e-9228-dc7c6b416f0c"
      },
      "execution_count": 43,
      "outputs": [
        {
          "output_type": "stream",
          "name": "stdout",
          "text": [
            "Positions of nodes [0.   0.01 0.02 0.03 0.04 0.05 0.06 0.07 0.08 0.09 0.1 ]\n",
            "Connectivty [[0, 1], [1, 2], [2, 3], [3, 4], [4, 5], [5, 6], [6, 7], [7, 8], [8, 9], [9, 10]]\n",
            "Elements [Element(nodes=[0, 1]), Element(nodes=[1, 2]), Element(nodes=[2, 3]), Element(nodes=[3, 4]), Element(nodes=[4, 5]), Element(nodes=[5, 6]), Element(nodes=[6, 7]), Element(nodes=[7, 8]), Element(nodes=[8, 9]), Element(nodes=[9, 10])]\n",
            "Time values [0.  0.1 0.2 0.3 0.4 0.5 0.6 0.7 0.8 0.9]\n"
          ]
        }
      ]
    },
    {
      "cell_type": "code",
      "source": [
        "# creating temperature values\n",
        "T = np.ones(n_dof) * T_L # for two BC\n",
        "dTdt = np.zeros(n_dof)\n",
        "\n",
        "for j in range(len(t)):\n",
        "    for i in range(n_dof):\n",
        "        element = elements[i]\n",
        "        alpha = element.k/(element.rho*element.cp)\n",
        "\n",
        "        if i == 0: # left BC\n",
        "            dTdt[i] = alpha*(\n",
        "                (-T[i]-T_L)/(0.5*element.l**2)\n",
        "                +(T[i+1]-T[i])/element.l**2\n",
        "                )\n",
        "        elif i == n_dof-1: # right bC\n",
        "            dTdt[i] = alpha*(\n",
        "                (T[i-1]-T[i])/element.l**2\n",
        "                +(T_R-T[i])/(0.5*element.l**2)\n",
        "                )\n",
        "        else:\n",
        "            dTdt[i] = alpha*(T[i+1]-2*T[i]+T[i-1])/element.l**2\n",
        "        print(dTdt[i])\n",
        "\n",
        "    T = T + dTdt*dt\n",
        "\n",
        "\n",
        "plt.plot(elem_x, T)\n",
        "plt.show()"
      ],
      "metadata": {
        "id": "aUwLpUBB9AxB",
        "outputId": "22e920be-f3e0-42bb-f694-f5e4c4645064",
        "colab": {
          "base_uri": "https://localhost:8080/",
          "height": 1000
        }
      },
      "execution_count": 44,
      "outputs": [
        {
          "output_type": "stream",
          "name": "stdout",
          "text": [
            "-77999999999.99998\n",
            "0.0\n",
            "0.0\n",
            "0.0\n",
            "0.0\n",
            "0.0\n",
            "0.0\n",
            "0.0\n",
            "0.0\n",
            "-9999999999.999998\n",
            "1.1699999219999995e+18\n",
            "-3.899999999999998e+17\n",
            "0.0\n",
            "0.0\n",
            "0.0\n",
            "0.0\n",
            "0.0\n",
            "0.0\n",
            "-4.9999999999999976e+16\n",
            "1.4999998999999994e+17\n",
            "-1.9499997660000066e+25\n",
            "9.749999219999994e+24\n",
            "-1.9499999999999985e+24\n",
            "0.0\n",
            "0.0\n",
            "0.0\n",
            "0.0\n",
            "-2.4999999999999983e+23\n",
            "1.2499998999999993e+24\n",
            "-2.4999997000000087e+24\n",
            "3.412499415000033e+32\n",
            "-2.04749970750001e+32\n",
            "6.824999414999995e+31\n",
            "-9.749999999999991e+30\n",
            "0.0\n",
            "0.0\n",
            "-1.249999999999999e+30\n",
            "8.749999249999993e+30\n",
            "-2.624999625000013e+31\n",
            "4.374999250000042e+31\n",
            "-6.142498635000112e+39\n",
            "4.0949991810000536e+39\n",
            "-1.75499972700001e+39\n",
            "4.3874996099999954e+38\n",
            "-4.874999999999995e+37\n",
            "-6.249999999999994e+36\n",
            "5.624999499999994e+37\n",
            "-2.2499996500000128e+38\n",
            "5.24999895000007e+38\n",
            "-7.874998250000144e+38\n",
            "1.126124692875033e+47\n",
            "-8.043747952500196e+46\n",
            "4.0218741225000637e+46\n",
            "-1.340624780625008e+46\n",
            "2.6499997562499967e+45\n",
            "9.999996874999994e+43\n",
            "-1.7187497187500105e+45\n",
            "5.1562488750000814e+45\n",
            "-1.0312497375000251e+46\n",
            "1.4437496062500424e+46\n",
            "-2.0913743243250898e+54\n",
            "1.5685307673750595e+54\n",
            "-8.714060086875253e+53\n",
            "3.484061695625061e+53\n",
            "-9.30312341000006e+52\n",
            "3.6562505999998997e+51\n",
            "4.346873968750079e+52\n",
            "-1.1171871906250323e+53\n",
            "2.0109368812500764e+53\n",
            "-2.681249133750115e+53\n",
            "3.9213266610377306e+61\n",
            "-3.049920777028289e+61\n",
            "1.829874390015707e+61\n",
            "-8.306247561156521e+60\n",
            "2.6906243487813017e+60\n",
            "-2.8437497440624734e+59\n",
            "-9.749996957187848e+59\n",
            "2.339999217968855e+60\n",
            "-3.9101548423439605e+60\n",
            "5.027341873125296e+60\n",
            "-7.406949987938073e+68\n",
            "5.925520997562929e+68\n",
            "-3.770146973600238e+68\n",
            "1.8800930855000945e+68\n",
            "-6.98593534750025e+67\n",
            "1.1421872725000082e+67\n",
            "2.0028117200001186e+67\n",
            "-4.782576253000304e+67\n",
            "7.593824996875552e+67\n",
            "-9.496089728125736e+67\n",
            "1.4073184739993574e+76\n",
            "-1.1514068885779983e+76\n",
            "7.672953638117051e+75\n",
            "-4.114463151665917e+75\n",
            "1.6957493712657189e+75\n",
            "-3.633748972031346e+74\n",
            "-3.823006009969094e+74\n",
            "9.58089413318051e+74\n",
            "-1.473315722805607e+75\n",
            "1.8041046141017402e+75\n"
          ]
        },
        {
          "output_type": "display_data",
          "data": {
            "text/plain": [
              "<Figure size 640x480 with 1 Axes>"
            ],
            "image/png": "[encoded data removed]"
          },
          "metadata": {}
        }
      ]
    },
    {
      "cell_type": "code",
      "source": [],
      "metadata": {
        "id": "ZydHMaUmA9Pq"
      },
      "execution_count": 19,
      "outputs": []
    },
    {
      "cell_type": "code",
      "source": [
        "# plot elements and nodes\n",
        "for i in range(n_elem):\n",
        "    element = elements[i]\n",
        "    plt.scatter([element.x], [0], color='red', marker=\"x\")\n",
        "    node_1 = element.nodes[0]\n",
        "    node_2 = element.nodes[1]\n",
        "    x1 = nodes_x[node_1]\n",
        "    x2 = nodes_x[node_2]\n",
        "    plt.scatter(x1, 0, color='black', marker=\"o\")\n",
        "    plt.scatter(x2, 0, color='black', marker=\"o\")\n",
        "\n",
        "plt.plot(elem_x, T[1:-1])\n",
        "# plt.legend()\n",
        "plt.show()"
      ],
      "metadata": {
        "colab": {
          "base_uri": "https://localhost:8080/",
          "height": 430
        },
        "id": "tGwX6E6h0qSy",
        "outputId": "e9ffd2a5-d6c4-4184-befa-ea3b40c9aef0"
      },
      "execution_count": 18,
      "outputs": [
        {
          "output_type": "display_data",
          "data": {
            "text/plain": [
              "<Figure size 640x480 with 1 Axes>"
            ],
            "image/png": "[encoded data removed]"
          },
          "metadata": {}
        }
      ]
    },
    {
      "cell_type": "code",
      "source": [],
      "metadata": {
        "id": "8I3AiWLk_xM5"
      },
      "execution_count": 6,
      "outputs": []
    }
  ],
  "metadata": {
    "kernelspec": {
      "display_name": "Python 3",
      "language": "python",
      "name": "python3"
    },
    "language_info": {
      "codemirror_mode": {
        "name": "ipython",
        "version": 3
      },
      "file_extension": ".py",
      "mimetype": "text/x-python",
      "name": "python",
      "nbconvert_exporter": "python",
      "pygments_lexer": "ipython3",
      "version": "3.12.7"
    },
    "colab": {
      "provenance": []
    }
  },
  "nbformat": 4,
  "nbformat_minor": 0
}