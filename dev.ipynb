{
  "cells": [
    {
      "cell_type": "code",
      "execution_count": 2,
      "metadata": {
        "id": "gI_plbeGwfnY"
      },
      "outputs": [],
      "source": [
        "import numpy as np\n",
        "import matplotlib.pyplot as plt"
      ]
    },
    {
      "cell_type": "markdown",
      "source": [
        "## 1D Heat Conduction"
      ],
      "metadata": {
        "id": "cH0BznD_wgnb"
      }
    },
    {
      "cell_type": "code",
      "execution_count": 3,
      "metadata": {
        "id": "qk1aQkEKwfnZ"
      },
      "outputs": [],
      "source": [
        "# Initialize parameters of the question\n",
        "\n",
        "k = 50 # Thermal conductivity, W/K\n",
        "L = 1000e-3 # m\n",
        "A = 75e-6 # m^2\n",
        "cp = 1 # Specific heat capacity, J/(kg * K)\n",
        "rho = 1 # kg/m^3\n",
        "# C = cp*rho # J/K, volume specific\n",
        "\n",
        "# boundary conditions\n",
        "T_L = 390 # K, x=0\n",
        "T_R = 290 # K, x=L\n"
      ]
    },
    {
      "cell_type": "code",
      "source": [
        "# discretize the space\n",
        "n_elem = 5\n",
        "n_nodes = n_elem + 1\n",
        "l_elem = L/n_elem\n",
        "nodes_x = np.linspace(0, L, n_nodes)\n",
        "print(nodes_x)\n",
        "\n",
        "n_dof = n_elem # degree of freedom of the system\n",
        "\n",
        "CON = [] # connectivity\n",
        "for i in range(n_elem):\n",
        "    CON.append([i, i+1])\n",
        "print(CON)\n"
      ],
      "metadata": {
        "id": "f6fz82k4ymj6",
        "outputId": "95b539a7-8b01-417a-d61d-93eafc04fc7b",
        "colab": {
          "base_uri": "https://localhost:8080/"
        }
      },
      "execution_count": 11,
      "outputs": [
        {
          "output_type": "stream",
          "name": "stdout",
          "text": [
            "[0.  0.2 0.4 0.6 0.8 1. ]\n",
            "[[0, 1], [1, 2], [2, 3], [3, 4], [4, 5]]\n"
          ]
        }
      ]
    },
    {
      "cell_type": "code",
      "source": [],
      "metadata": {
        "id": "tGwX6E6h0qSy"
      },
      "execution_count": null,
      "outputs": []
    }
  ],
  "metadata": {
    "kernelspec": {
      "display_name": "Python 3",
      "language": "python",
      "name": "python3"
    },
    "language_info": {
      "codemirror_mode": {
        "name": "ipython",
        "version": 3
      },
      "file_extension": ".py",
      "mimetype": "text/x-python",
      "name": "python",
      "nbconvert_exporter": "python",
      "pygments_lexer": "ipython3",
      "version": "3.12.7"
    },
    "colab": {
      "provenance": []
    }
  },
  "nbformat": 4,
  "nbformat_minor": 0
}