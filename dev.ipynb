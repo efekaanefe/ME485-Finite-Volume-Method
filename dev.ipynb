{
  "cells": [
    {
      "cell_type": "code",
      "execution_count": 115,
      "metadata": {
        "id": "gI_plbeGwfnY"
      },
      "outputs": [],
      "source": [
        "import numpy as np\n",
        "import matplotlib.pyplot as plt\n",
        "from matplotlib.animation import FuncAnimation\n",
        "from IPython import display\n",
        "\n",
        "from tqdm import tqdm\n",
        "\n",
        "plt.style.use(\"dark_background\")\n"
      ]
    },
    {
      "cell_type": "markdown",
      "source": [
        "## The Finite Volume Method in CFD video series\n",
        "\n",
        "https://youtube.com/playlist?list=PLnJ8lIgfDbkp5DtCPtP2rcqEEUJk-PM8N&si=NvpF64pgI-nEt85i"
      ],
      "metadata": {
        "id": "idPOSeiqD_kH"
      }
    },
    {
      "cell_type": "markdown",
      "source": [
        "### Classes"
      ],
      "metadata": {
        "id": "Zy5OkiVUND2P"
      }
    },
    {
      "cell_type": "markdown",
      "source": [
        "#### Node, Face, Cell classes\n"
      ],
      "metadata": {
        "id": "NXcuDbU4Hz50"
      }
    },
    {
      "cell_type": "code",
      "source": [
        "class Node:\n",
        "    def __init__(self, id, coordinates):\n",
        "        \"\"\"\n",
        "        Initialize a node.\n",
        "        :param id: Global ID for the node.\n",
        "        :param coordinates: Tuple of coordinates (x, y, z).\n",
        "        \"\"\"\n",
        "        self.id = id\n",
        "        self.coordinates = coordinates\n",
        "\n",
        "    #     # TODO: do I even need this?\n",
        "    #     self.neighbors = []  # List of neighboring node IDs\n",
        "\n",
        "\n",
        "    # def add_neighbor(self, neighbor_id):\n",
        "    #     self.neighbors.append(neighbor_id)\n",
        "\n",
        "    def __repr__(self):\n",
        "        return f\"Node(id={self.id}, coordinates={self.coordinates}\" #, neighbors={self.neighbors})\"\n",
        "\n",
        "class Face:\n",
        "    def __init__(self, id, nodes):\n",
        "        \"\"\"\n",
        "        Initialize a face.\n",
        "        :param id: Global ID for the face.\n",
        "        :param nodes: List of node IDs defining the face.\n",
        "        \"\"\"\n",
        "        self.id = id\n",
        "        self.nodes = nodes  # Nodes that make up the face\n",
        "\n",
        "    #     # TODO: do I even need this?\n",
        "    #     self.neighbor_cells = []  # IDs of adjacent cells\n",
        "\n",
        "    # def add_neighbor_cell(self, cell_id):\n",
        "    #     self.neighbor_cells.append(cell_id)\n",
        "\n",
        "    def __repr__(self):\n",
        "        return f\"Face(id={self.id}, nodes={self.nodes}\" #, neighbor_cells={self.neighbor_cells})\"\n",
        "\n",
        "class Cell:\n",
        "    def __init__(self, id, nodes, faces):\n",
        "        \"\"\"\n",
        "        Initialize a cell.\n",
        "        :param id: Global ID for the cell.\n",
        "        :param nodes: List of node IDs defining the cell.\n",
        "        :param faces: List of face IDs defining the cell.\n",
        "        \"\"\"\n",
        "        self.id = id\n",
        "        self.nodes = nodes  # Nodes that make up the cell\n",
        "        self.faces = faces  # Faces that bound the cell\n",
        "        self.neighbor_cells = []  # IDs of adjacent cells\n",
        "\n",
        "        self.flow_variables = {\"T\":None, \"U\":None, \"P\":None}\n",
        "\n",
        "    def add_flow_variable(self, variable, value):\n",
        "        self.flow_variables[variable] = value\n",
        "\n",
        "    def add_neighbor_cell(self, neighbor_id):\n",
        "        self.neighbor_cells.append(neighbor_id)\n",
        "\n",
        "    def __repr__(self):\n",
        "        return (f\"Cell(id={self.id}, nodes={self.nodes}, faces={self.faces}, \"\n",
        "                f\"neighbor_cells={self.neighbor_cells}, flow_variables={self.flow_variables})\")\n",
        "\n",
        "\n",
        "# Example usage\n",
        "node1 = Node(1, (0.0, 0.0, 0.0))\n",
        "node2 = Node(2, (1.0, 0.0, 0.0))\n",
        "node3 = Node(3, (1.0, 1.0, 0.0))\n",
        "\n",
        "face1 = Face(1, [1, 2])\n",
        "face2 = Face(2, [2, 3])\n",
        "\n",
        "cell1 = Cell(1, [1, 2, 3], [1, 2])\n",
        "\n",
        "cell1.add_neighbor_cell(2)  # Cell 2 is a neighbor\n",
        "# face1.add_neighbor_cell(1)  # Cell 1 is adjacent to face 1\n",
        "# node1.add_neighbor(2)       # Node 2 is a neighbor of Node 1"
      ],
      "metadata": {
        "id": "BTm9kvTnEGwt"
      },
      "execution_count": 239,
      "outputs": []
    },
    {
      "cell_type": "markdown",
      "source": [
        "#### Mesh class"
      ],
      "metadata": {
        "id": "cx6VVOwVKZg1"
      }
    },
    {
      "cell_type": "code",
      "source": [
        "class Mesh:\n",
        "    def __init__(self, nodes, faces, cells):\n",
        "        \"\"\"\n",
        "        Initialize an empty Mesh object with lists to store nodes, faces, and cells.\n",
        "        \"\"\"\n",
        "        self.nodes = nodes\n",
        "        self.faces = faces\n",
        "        self.cells = cells\n",
        "\n",
        "    def add_node(self, node):\n",
        "        \"\"\"\n",
        "        Add a Node to the mesh.\n",
        "        :param node: Node object to add.\n",
        "        \"\"\"\n",
        "        self.nodes.append(node)\n",
        "\n",
        "    def add_face(self, face):\n",
        "        \"\"\"\n",
        "        Add a Face to the mesh.\n",
        "        :param face: Face object to add.\n",
        "        \"\"\"\n",
        "        self.faces.append(face)\n",
        "\n",
        "    def add_cell(self, cell):\n",
        "        \"\"\"\n",
        "        Add a Cell to the mesh.\n",
        "        :param cell: Cell object to add.\n",
        "        \"\"\"\n",
        "        self.cells.append(cell)\n",
        "\n",
        "    def get_node(self, node_id):\n",
        "        \"\"\"\n",
        "        Retrieve a Node by its ID.\n",
        "        :param node_id: ID of the Node to retrieve.\n",
        "        :return: Node object.\n",
        "        \"\"\"\n",
        "        return next(node for node in self.nodes if node.id == node_id)\n",
        "\n",
        "    def get_face(self, face_id):\n",
        "        \"\"\"\n",
        "        Retrieve a Face by its ID.\n",
        "        :param face_id: ID of the Face to retrieve.\n",
        "        :return: Face object.\n",
        "        \"\"\"\n",
        "        return next(face for face in self.faces if face.id == face_id)\n",
        "\n",
        "    def get_cell(self, cell_id):\n",
        "        \"\"\"\n",
        "        Retrieve a Cell by its ID.\n",
        "        :param cell_id: ID of the Cell to retrieve.\n",
        "        :return: Cell object.\n",
        "        \"\"\"\n",
        "        return next(cell for cell in self.cells if cell.id == cell_id)\n",
        "\n",
        "    def compute_cell_connectivity(self):\n",
        "        \"\"\"\n",
        "        Compute and assign neighbors for each cell based on shared faces.\n",
        "        \"\"\"\n",
        "        face_to_cells = {}\n",
        "\n",
        "        # Map faces to the cells they belong to\n",
        "        for cell in self.cells:\n",
        "            for face_id in cell.faces:\n",
        "                if face_id not in face_to_cells:\n",
        "                    face_to_cells[face_id] = []\n",
        "                face_to_cells[face_id].append(cell.id)\n",
        "\n",
        "        # Assign neighbors using shared faces\n",
        "        for face_id, cell_ids in face_to_cells.items():\n",
        "            if len(cell_ids) > 1:  # A face shared by more than one cell\n",
        "                for i, cell_id in enumerate(cell_ids):\n",
        "                    for neighbor_id in cell_ids[:i] + cell_ids[i + 1:]:\n",
        "                        self.get_cell(cell_id).add_neighbor_cell(neighbor_id)\n",
        "\n",
        "    def print_detailed_info(self, config = \"NFC\"):\n",
        "        \"\"\"\n",
        "        Print detailed information about the mesh, including nodes, faces, and cells.\n",
        "        \"\"\"\n",
        "        if \"N\" in config:\n",
        "            print(\"Nodes:\")\n",
        "            for node in self.nodes:\n",
        "                print(node)\n",
        "        if \"F\" in config:\n",
        "            print(\"Faces:\")\n",
        "            for face in self.faces:\n",
        "                print(face)\n",
        "        if \"C\" in config:\n",
        "            print(\"Cells:\")\n",
        "            for cell in self.cells:\n",
        "                print(cell)\n",
        "\n",
        "    def plot(self):\n",
        "        \"\"\"\n",
        "        Plot the mesh using the plot_system function.\n",
        "        \"\"\"\n",
        "        plot_system(self.nodes, self.faces, self.cells)\n",
        "\n",
        "    def __repr__(self):\n",
        "        \"\"\"\n",
        "        Return a string representation of the Mesh object.\n",
        "        \"\"\"\n",
        "        return (f\"Mesh(\\n\"\n",
        "                f\"  Nodes: {len(self.nodes)},\\n\"\n",
        "                f\"  Faces: {len(self.faces)},\\n\"\n",
        "                f\"  Cells: {len(self.cells)}\\n)\")\n"
      ],
      "metadata": {
        "id": "SK6qUVviKXpl"
      },
      "execution_count": 264,
      "outputs": []
    },
    {
      "cell_type": "markdown",
      "source": [
        "### Utils"
      ],
      "metadata": {
        "id": "wgcdQ4onMDl2"
      }
    },
    {
      "cell_type": "markdown",
      "source": [
        "#### Creating mesh for choosen system of geometry"
      ],
      "metadata": {
        "id": "b4lltlWPMkE2"
      }
    },
    {
      "cell_type": "code",
      "source": [
        "def create_2d_rectangular_mesh(system_size, num_cells):\n",
        "    \"\"\"\n",
        "    Create a 2D rectangular mesh with the given system size and number of cells.\n",
        "    :param system_size: Tuple (width, height) of the system.\n",
        "    :param num_cells: Tuple (nx, ny) with the number of cells in the x and y directions.\n",
        "    :return: Lists of nodes, faces, and cells.\n",
        "    \"\"\"\n",
        "    width, height = system_size\n",
        "    nx, ny = num_cells\n",
        "\n",
        "    # Generate nodes\n",
        "    dx = width / nx\n",
        "    dy = height / ny\n",
        "    nodes = []\n",
        "    node_id = 0\n",
        "    node_map = {}  # Maps (i, j) to node ID\n",
        "    for j in range(ny + 1):\n",
        "        for i in range(nx + 1):\n",
        "            x = i * dx\n",
        "            y = j * dy\n",
        "            nodes.append(Node(node_id, (x, y)))\n",
        "            node_map[(i, j)] = node_id\n",
        "            node_id += 1\n",
        "\n",
        "    # Generate faces\n",
        "    faces = []\n",
        "    face_id = 0\n",
        "    face_map = {}  # To ensure unique face IDs\n",
        "    for j in range(ny):\n",
        "        for i in range(nx):\n",
        "            # Vertical face (left)\n",
        "            left_face_nodes = [node_map[(i, j)], node_map[(i, j + 1)]]\n",
        "            if tuple(left_face_nodes) not in face_map:\n",
        "                faces.append(Face(face_id, left_face_nodes))\n",
        "                face_map[tuple(left_face_nodes)] = face_id\n",
        "                face_id += 1\n",
        "\n",
        "            # Horizontal face (bottom)\n",
        "            bottom_face_nodes = [node_map[(i, j)], node_map[(i + 1, j)]]\n",
        "            if tuple(bottom_face_nodes) not in face_map:\n",
        "                faces.append(Face(face_id, bottom_face_nodes))\n",
        "                face_map[tuple(bottom_face_nodes)] = face_id\n",
        "                face_id += 1\n",
        "\n",
        "            if i == nx - 1:\n",
        "                right_face_nodes = [node_map[(i + 1, j)], node_map[(i + 1, j + 1)]]\n",
        "                faces.append(Face(face_id, right_face_nodes))\n",
        "                face_map[tuple(sorted(right_face_nodes))] = face_id\n",
        "                face_id += 1\n",
        "\n",
        "            if j == ny - 1:\n",
        "                top_face_nodes = [node_map[(i, j + 1)], node_map[(i + 1, j + 1)]]\n",
        "                faces.append(Face(face_id, top_face_nodes))\n",
        "                face_map[tuple(sorted(top_face_nodes))] = face_id\n",
        "                face_id += 1\n",
        "\n",
        "\n",
        "    # Generate cells\n",
        "    cells = []\n",
        "    cell_id = 0\n",
        "    for j in range(ny):\n",
        "        for i in range(nx):\n",
        "            cell_nodes = [\n",
        "                node_map[(i, j)],\n",
        "                node_map[(i + 1, j)],\n",
        "                node_map[(i + 1, j + 1)],\n",
        "                node_map[(i, j + 1)],\n",
        "            ]\n",
        "            cell_faces = [\n",
        "                face_map[tuple(sorted([node_map[(i, j)], node_map[(i, j + 1)]]))],  # Left\n",
        "                face_map[tuple(sorted([node_map[(i, j)], node_map[(i + 1, j)]]))],  # Bottom\n",
        "                face_map[tuple(sorted([node_map[(i + 1, j)], node_map[(i + 1, j + 1)]]))],  # Right\n",
        "                face_map[tuple(sorted([node_map[(i, j + 1)], node_map[(i + 1, j + 1)]]))],  # Top\n",
        "            ]\n",
        "            cells.append(Cell(cell_id, cell_nodes, cell_faces))\n",
        "            cell_id += 1\n",
        "\n",
        "    return nodes, faces, cells\n"
      ],
      "metadata": {
        "id": "UnwTOHjxL_pt"
      },
      "execution_count": 118,
      "outputs": []
    },
    {
      "cell_type": "markdown",
      "source": [
        "#### Plotting"
      ],
      "metadata": {
        "id": "XuFRgYdmMrgN"
      }
    },
    {
      "cell_type": "code",
      "source": [
        "def plot_system(nodes, faces, cells):\n",
        "    \"\"\"\n",
        "    Plot the system defined by nodes, faces, and cells.\n",
        "    :param nodes: List of Node objects.\n",
        "    :param faces: List of Face objects.\n",
        "    :param cells: List of Cell objects.\n",
        "    \"\"\"\n",
        "    fig, ax = plt.subplots(figsize=(8, 8))\n",
        "    fontsize = 16\n",
        "    colors = {\n",
        "        \"Node\": \"blue\",\n",
        "        \"Face\": \"green\",\n",
        "        \"Cell\": \"orange\"\n",
        "    }\n",
        "\n",
        "    # Plot faces\n",
        "    for face in faces:\n",
        "        node_coords = [nodes[node_id].coordinates for node_id in face.nodes]\n",
        "        x_coords, y_coords = zip(*node_coords)\n",
        "        ax.plot(x_coords, y_coords, color=colors[\"Face\"], label=\"Face\" if face.id == 0 else None, linewidth=4)\n",
        "        mid_x, mid_y = sum(x_coords) / 2, sum(y_coords) / 2\n",
        "        ax.text(mid_x, mid_y, f'{face.id}', color=colors[\"Face\"], fontsize=fontsize)\n",
        "\n",
        "    # Plot cells\n",
        "    for cell in cells:\n",
        "        cell_coords = [nodes[node_id].coordinates for node_id in cell.nodes]\n",
        "        x_coords, y_coords = zip(*cell_coords + [cell_coords[0]])  # Close the polygon\n",
        "        ax.plot(x_coords, y_coords, color=colors[\"Cell\"], label=\"Cell\" if cell.id == 0 else None, linewidth = 1)\n",
        "        center_x = sum(coord[0] for coord in cell_coords) / len(cell_coords)\n",
        "        center_y = sum(coord[1] for coord in cell_coords) / len(cell_coords)\n",
        "        ax.text(center_x, center_y, f'{cell.id}', color=colors[\"Cell\"], fontsize=fontsize)\n",
        "\n",
        "    # Plot nodes\n",
        "    for node in nodes:\n",
        "        x, y = node.coordinates\n",
        "        ax.plot(x, y, 'o', color=colors[\"Node\"], label=\"Node\" if node.id == 0 else None, linewidth = 1)\n",
        "        ax.text(x, y, f'{node.id}', color=colors[\"Node\"], fontsize=fontsize, ha='left', va='bottom')\n",
        "\n",
        "\n",
        "    # Configure plot\n",
        "    ax.set_aspect('equal')\n",
        "    ax.set_title(\"System Plot\")\n",
        "    ax.set_xlabel(\"X Coordinate\")\n",
        "    ax.set_ylabel(\"Y Coordinate\")\n",
        "    ax.legend(loc=\"upper right\", fontsize=10)\n",
        "    # plt.grid(True)\n",
        "    plt.show()\n",
        "\n",
        "\n",
        "def plot_scalar_field(mesh, variable_name, num_cells, system_size, plot_mesh = False):\n",
        "    \"\"\"\n",
        "    Plot a scalar field (e.g., 'T', 'P') using a pseudocolor map (pcolormesh).\n",
        "    :param mesh: Mesh object containing cells.\n",
        "    :param variable_name: Name of the scalar field to plot ('T', 'P').\n",
        "    :param num_cells: Tuple indicating the number of cells in (x, y) directions.\n",
        "    #:param system_size: Tuple indicating the system size (width, height).\n",
        "    \"\"\"\n",
        "    # Extract the flow variable values for each cell\n",
        "    scalar_field = np.array([\n",
        "        cell.flow_variables.get(variable_name, None) for cell in mesh.cells\n",
        "    ])\n",
        "\n",
        "    if None in scalar_field:\n",
        "        print(f\"Warning: Some cells do not have values for {variable_name}. Setting to NaN.\")\n",
        "        scalar_field = np.array([val if val is not None else np.nan for val in scalar_field])\n",
        "\n",
        "    # Reshape the scalar field into a 2D grid based on num_cells\n",
        "    scalar_field_2d = scalar_field.reshape(num_cells)\n",
        "\n",
        "    cell_size = (system_size[0] / num_cells[0], system_size[1] / num_cells[1])\n",
        "    # Create a grid for cell centers\n",
        "    x_centers = np.linspace(0, system_size[0], num_cells[0] + 1)[:-1] + cell_size[0] / 2\n",
        "    y_centers = np.linspace(0, system_size[1], num_cells[1] + 1)[:-1] + cell_size[1] / 2\n",
        "    X, Y = np.meshgrid(x_centers, y_centers)\n",
        "\n",
        "    plt.figure(figsize=(8, 6))\n",
        "\n",
        "    # Plot the pseudocolor map\n",
        "    cmap = \"coolwarm\"  # \"viridis\", \"plasma\", \"coolwarm\"\n",
        "    plt.pcolormesh(X, Y, scalar_field_2d.T, cmap=cmap, shading='auto')\n",
        "    plt.colorbar(label=variable_name)\n",
        "    plt.xlabel(\"X\")\n",
        "    plt.ylabel(\"Y\")\n",
        "    plt.title(f\"Pseudocolor map of {variable_name}\")\n",
        "\n",
        "    if plot_mesh:\n",
        "        fontsize = 16\n",
        "        colors = {\n",
        "            \"Node\": \"blue\",\n",
        "            \"Face\": \"green\",\n",
        "            \"Cell\": \"orange\"\n",
        "        }\n",
        "        # Plot faces\n",
        "        for face in mesh.faces:\n",
        "            node_coords = [nodes[node_id].coordinates for node_id in face.nodes]\n",
        "            x_coords, y_coords = zip(*node_coords)\n",
        "            plt.plot(x_coords, y_coords, color=colors[\"Face\"], label=\"Face\" if face.id == 0 else None, linewidth=4)\n",
        "            mid_x, mid_y = sum(x_coords) / 2, sum(y_coords) / 2\n",
        "            plt.text(mid_x, mid_y, f'{face.id}', color=colors[\"Face\"], fontsize=fontsize)\n",
        "        # Plot cells\n",
        "        for cell in mesh.cells:\n",
        "            cell_coords = [nodes[node_id].coordinates for node_id in cell.nodes]\n",
        "            x_coords, y_coords = zip(*cell_coords + [cell_coords[0]])  # Close the polygon\n",
        "            plt.plot(x_coords, y_coords, color=colors[\"Cell\"], label=\"Cell\" if cell.id == 0 else None, linewidth = 1)\n",
        "            center_x = sum(coord[0] for coord in cell_coords) / len(cell_coords)\n",
        "            center_y = sum(coord[1] for coord in cell_coords) / len(cell_coords)\n",
        "            plt.text(center_x, center_y, f'{cell.id}', color=colors[\"Cell\"], fontsize=fontsize)\n",
        "        # Plot nodes\n",
        "        for node in mesh.nodes:\n",
        "            x, y = node.coordinates\n",
        "            plt.plot(x, y, 'o', color=colors[\"Node\"], label=\"Node\" if node.id == 0 else None, linewidth = 1)\n",
        "            plt.text(x, y, f'{node.id}', color=colors[\"Node\"], fontsize=fontsize, ha='left', va='bottom')\n",
        "\n",
        "\n",
        "    plt.show()\n"
      ],
      "metadata": {
        "id": "Q7YnmyvfMpy3"
      },
      "execution_count": 311,
      "outputs": []
    },
    {
      "cell_type": "markdown",
      "source": [
        "#### Calculating Volume"
      ],
      "metadata": {
        "id": "P8mR_ONsRi7H"
      }
    },
    {
      "cell_type": "code",
      "source": [
        "def get_cell_centroid(mesh, cell):\n",
        "    \"\"\"\n",
        "    Compute the centroid of a given cell\n",
        "    :param mesh: Mesh object\n",
        "    :param cell: Cell object\n",
        "    :return: Centroid of the cell\n",
        "    \"\"\"\n",
        "    return np.mean([mesh.nodes[node_id].coordinates for node_id in cell.nodes], axis=0)\n",
        "\n",
        "def get_face_centroid(mesh, face):\n",
        "    \"\"\"\n",
        "    Compute the centroid of a given face\n",
        "    :param mesh: Mesh object\n",
        "    :param face: Face object\n",
        "    :return: Centroid of the face\n",
        "    \"\"\"\n",
        "    return np.mean([mesh.nodes[node_id].coordinates for node_id in face.nodes], axis=0)\n",
        "\n",
        "def get_face_area(mesh, face):\n",
        "    \"\"\"\n",
        "    Compute the surface area of a given face\n",
        "    :param mesh: Mesh object\n",
        "    :param face: Face object\n",
        "    :return: Surface area of the face\n",
        "    \"\"\"\n",
        "    node_1 = mesh.get_node(face.nodes[0]); node_2 = mesh.get_node(face.nodes[1])\n",
        "    node_1_coords = np.array(node_1.coordinates); node_2_coords = np.array(node_2.coordinates)\n",
        "    return np.linalg.norm(node_2_coords - node_1_coords)\n",
        "\n",
        "def get_face_normal_vector(mesh, face, x_f):\n",
        "    \"\"\"\n",
        "    Compute the normal vector of a given face\n",
        "    :param mesh: Mesh object\n",
        "    :param face: Face object\n",
        "    :param x_f: Vector from the cell centroid to the face midpoint\n",
        "    :return: Normal vector of the face\n",
        "    \"\"\"\n",
        "    node_1 = mesh.get_node(face.nodes[0]); node_2 = mesh.get_node(face.nodes[1])\n",
        "    node_1_coords = np.array(node_1.coordinates); node_2_coords = np.array(node_2.coordinates)\n",
        "    v = node_2_coords - node_1_coords\n",
        "    n_f = np.array([-v[1], v[0]]) / np.linalg.norm(np.array([-v[1], v[0]]))\n",
        "\n",
        "    if np.dot(n_f, x_f) < 0: # make sure normal is pointing outwards\n",
        "        return -n_f\n",
        "    else:\n",
        "        return n_f\n",
        "\n",
        "\n",
        "def compute_cell_volume(mesh, cell):\n",
        "    \"\"\"\n",
        "    Compute the volume of a given cell\n",
        "    :param mesh: Mesh object\n",
        "    :param cell: Cell object\n",
        "    :return: Volume of the cell.\n",
        "    \"\"\"\n",
        "    total_volume = 0.0\n",
        "    cell_centroid = get_cell_centroid(mesh, cell)\n",
        "\n",
        "    for face_id in cell.faces:\n",
        "        face_centroid = get_face_centroid(mesh, mesh.get_face(face_id))\n",
        "        A_f = get_face_area(mesh, mesh.get_face(face_id))\n",
        "        x_f = face_centroid - cell_centroid # vector from the cell centroid to the face midpoint\n",
        "        n_f = get_face_normal_vector(mesh, mesh.get_face(face_id), x_f)\n",
        "\n",
        "        total_volume += np.abs(1/2 * np.dot(x_f, n_f) * A_f) # 1/3 if 3D\n",
        "    return total_volume\n"
      ],
      "metadata": {
        "id": "3ArzwHU1RmRW"
      },
      "execution_count": 188,
      "outputs": []
    },
    {
      "cell_type": "markdown",
      "source": [
        "#### Gradient schemes"
      ],
      "metadata": {
        "id": "TmJivAMNwpCw"
      }
    },
    {
      "cell_type": "code",
      "source": [
        "def assign_field_to_cells(mesh, field, field_key = \"T\"):\n",
        "    \"\"\"\n",
        "    Assigns given field to cells based on their IDs.\n",
        "    :param mesh: Mesh object\n",
        "    :param field: Field of values, with the same length as the number of cells: scalar->(Nx1), vector->(Nx2)\n",
        "    :param field_key: Key for the field in the cell object\n",
        "    \"\"\"\n",
        "\n",
        "    if len(field) != len(mesh.cells):\n",
        "        raise ValueError(\"Field and mesh must have the same number of cells.\")\n",
        "    if field_key not in [\"T\", \"U\", \"P\"]:\n",
        "        raise ValueError(\"Invalid field key. Must be 'T', 'U', or 'P'.\")\n",
        "\n",
        "    for cell in mesh.cells:\n",
        "        cell.add_flow_variable(field_key, field[cell.id])\n",
        "\n",
        "\n",
        "def green_gauss_gradient(mesh, cell, field, is_cell_based = True):\n",
        "    pass\n",
        ""
      ],
      "metadata": {
        "id": "FQZQ4L_Goeug"
      },
      "execution_count": 265,
      "outputs": []
    },
    {
      "cell_type": "markdown",
      "source": [
        "### Steps for FVM"
      ],
      "metadata": {
        "id": "WQRFKKThQ-fc"
      }
    },
    {
      "cell_type": "markdown",
      "source": [
        "#### Creating a mesh"
      ],
      "metadata": {
        "id": "XhcDsav_H6jI"
      }
    },
    {
      "cell_type": "code",
      "source": [
        "# Example Usage\n",
        "system_size = (1, 1)  # Width and height of the system\n",
        "num_cells = (3, 3)  # Number of cells in x and y directions\n",
        "mesh = Mesh(*create_2d_rectangular_mesh(system_size, num_cells))\n",
        "mesh.compute_cell_connectivity()\n",
        "\n",
        "print(mesh)\n",
        "mesh.print_detailed_info()\n",
        "for cell in mesh.cells:\n",
        "    print(cell)\n",
        "\n",
        "mesh.plot()"
      ],
      "metadata": {
        "colab": {
          "base_uri": "https://localhost:8080/",
          "height": 1000
        },
        "id": "OHWh3gYbGIWY",
        "outputId": "6b8ababd-baf8-4c00-da66-6c16e71c9dcf"
      },
      "execution_count": 279,
      "outputs": [
        {
          "output_type": "stream",
          "name": "stderr",
          "text": [
            "ic| mesh: Mesh(\n",
            "            Nodes: 16,\n",
            "            Faces: 24,\n",
            "            Cells: 9\n",
            "          )\n",
            "ic| 'Nodes:'\n",
            "ic| node: Node(id=0, coordinates=(0.0, 0.0)\n",
            "ic| node: Node(id=1, coordinates=(0.3333333333333333, 0.0)\n",
            "ic| node: Node(id=2, coordinates=(0.6666666666666666, 0.0)\n",
            "ic| node: Node(id=3, coordinates=(1.0, 0.0)\n",
            "ic| node: Node(id=4, coordinates=(0.0, 0.3333333333333333)\n",
            "ic| node: Node(id=5, coordinates=(0.3333333333333333, 0.3333333333333333)\n",
            "ic| node: Node(id=6, coordinates=(0.6666666666666666, 0.3333333333333333)\n",
            "ic| node: Node(id=7, coordinates=(1.0, 0.3333333333333333)\n",
            "ic| node: Node(id=8, coordinates=(0.0, 0.6666666666666666)\n",
            "ic| node: Node(id=9, coordinates=(0.3333333333333333, 0.6666666666666666)\n",
            "ic| node: Node(id=10, coordinates=(0.6666666666666666, 0.6666666666666666)\n",
            "ic| node: Node(id=11, coordinates=(1.0, 0.6666666666666666)\n",
            "ic| node: Node(id=12, coordinates=(0.0, 1.0)\n",
            "ic| node: Node(id=13, coordinates=(0.3333333333333333, 1.0)\n",
            "ic| node: Node(id=14, coordinates=(0.6666666666666666, 1.0)\n",
            "ic| node: Node(id=15, coordinates=(1.0, 1.0)\n",
            "ic| 'Faces:'\n",
            "ic| face: Face(id=0, nodes=[0, 4]\n",
            "ic| face: Face(id=1, nodes=[0, 1]\n",
            "ic| face: Face(id=2, nodes=[1, 5]\n",
            "ic| face: Face(id=3, nodes=[1, 2]\n",
            "ic| face: Face(id=4, nodes=[2, 6]\n",
            "ic| face: Face(id=5, nodes=[2, 3]\n",
            "ic| face: Face(id=6, nodes=[3, 7]\n",
            "ic| face: Face(id=7, nodes=[4, 8]\n",
            "ic| face: Face(id=8, nodes=[4, 5]\n",
            "ic| face: Face(id=9, nodes=[5, 9]\n",
            "ic| face: Face(id=10, nodes=[5, 6]\n",
            "ic| face: Face(id=11, nodes=[6, 10]\n",
            "ic| face: Face(id=12, nodes=[6, 7]\n",
            "ic| face: Face(id=13, nodes=[7, 11]\n",
            "ic| face: Face(id=14, nodes=[8, 12]\n",
            "ic| face: Face(id=15, nodes=[8, 9]\n",
            "ic| face: Face(id=16, nodes=[12, 13]\n",
            "ic| face: Face(id=17, nodes=[9, 13]\n",
            "ic| face: Face(id=18, nodes=[9, 10]\n",
            "ic| face: Face(id=19, nodes=[13, 14]\n",
            "ic| face: Face(id=20, nodes=[10, 14]\n",
            "ic| face: Face(id=21, nodes=[10, 11]\n",
            "ic| face: Face(id=22, nodes=[11, 15]\n",
            "ic| face: Face(id=23, nodes=[14, 15]\n",
            "ic| 'Cells:'\n",
            "ic| cell: Cell(id=0, nodes=[0, 1, 5, 4], faces=[0, 1, 2, 8], neighbor_cells=[1, 3], flow_variables={'T': None, 'U': None, 'P': None})\n",
            "ic| cell: Cell(id=1, nodes=[1, 2, 6, 5], faces=[2, 3, 4, 10], neighbor_cells=[0, 2, 4], flow_variables={'T': None, 'U': None, 'P': None})\n",
            "ic| cell: Cell(id=2, nodes=[2, 3, 7, 6], faces=[4, 5, 6, 12], neighbor_cells=[1, 5], flow_variables={'T': None, 'U': None, 'P': None})\n",
            "ic| cell: Cell(id=3, nodes=[4, 5, 9, 8], faces=[7, 8, 9, 15], neighbor_cells=[0, 4, 6], flow_variables={'T': None, 'U': None, 'P': None})\n",
            "ic| cell: Cell(id=4, nodes=[5, 6, 10, 9], faces=[9, 10, 11, 18], neighbor_cells=[1, 3, 5, 7], flow_variables={'T': None, 'U': None, 'P': None})\n",
            "ic| cell: Cell(id=5, nodes=[6, 7, 11, 10], faces=[11, 12, 13, 21], neighbor_cells=[2, 4, 8], flow_variables={'T': None, 'U': None, 'P': None})\n",
            "ic| cell: Cell(id=6, nodes=[8, 9, 13, 12], faces=[14, 15, 17, 16], neighbor_cells=[3, 7], flow_variables={'T': None, 'U': None, 'P': None})\n",
            "ic| cell: Cell(id=7, nodes=[9, 10, 14, 13], faces=[17, 18, 20, 19], neighbor_cells=[4, 6, 8], flow_variables={'T': None, 'U': None, 'P': None})\n",
            "ic| cell: Cell(id=8, nodes=[10, 11, 15, 14], faces=[20, 21, 22, 23], neighbor_cells=[5, 7], flow_variables={'T': None, 'U': None, 'P': None})\n",
            "ic| cell: Cell(id=0, nodes=[0, 1, 5, 4], faces=[0, 1, 2, 8], neighbor_cells=[1, 3], flow_variables={'T': None, 'U': None, 'P': None})\n",
            "ic| cell: Cell(id=1, nodes=[1, 2, 6, 5], faces=[2, 3, 4, 10], neighbor_cells=[0, 2, 4], flow_variables={'T': None, 'U': None, 'P': None})\n",
            "ic| cell: Cell(id=2, nodes=[2, 3, 7, 6], faces=[4, 5, 6, 12], neighbor_cells=[1, 5], flow_variables={'T': None, 'U': None, 'P': None})\n",
            "ic| cell: Cell(id=3, nodes=[4, 5, 9, 8], faces=[7, 8, 9, 15], neighbor_cells=[0, 4, 6], flow_variables={'T': None, 'U': None, 'P': None})\n",
            "ic| cell: Cell(id=4, nodes=[5, 6, 10, 9], faces=[9, 10, 11, 18], neighbor_cells=[1, 3, 5, 7], flow_variables={'T': None, 'U': None, 'P': None})\n",
            "ic| cell: Cell(id=5, nodes=[6, 7, 11, 10], faces=[11, 12, 13, 21], neighbor_cells=[2, 4, 8], flow_variables={'T': None, 'U': None, 'P': None})\n",
            "ic| cell: Cell(id=6, nodes=[8, 9, 13, 12], faces=[14, 15, 17, 16], neighbor_cells=[3, 7], flow_variables={'T': None, 'U': None, 'P': None})\n",
            "ic| cell: Cell(id=7, nodes=[9, 10, 14, 13], faces=[17, 18, 20, 19], neighbor_cells=[4, 6, 8], flow_variables={'T': None, 'U': None, 'P': None})\n",
            "ic| cell: Cell(id=8, nodes=[10, 11, 15, 14], faces=[20, 21, 22, 23], neighbor_cells=[5, 7], flow_variables={'T': None, 'U': None, 'P': None})\n"
          ]
        },
        {
          "output_type": "display_data",
          "data": {
            "text/plain": [
              "<Figure size 800x800 with 1 Axes>"
            ],
            "image/png": "[encoded data removed]"
          },
          "metadata": {}
        }
      ]
    },
    {
      "cell_type": "markdown",
      "source": [
        "#### Assigning flow variables to cells based on a field"
      ],
      "metadata": {
        "id": "lkNwM4ZfzHfS"
      }
    },
    {
      "cell_type": "code",
      "source": [
        "temp_field = np.ones(num_cells) * 290 + np.random.randn(*num_cells) * 10\n",
        "assign_field_to_cells(mesh, temp_field.flatten(), \"T\")\n",
        "\n",
        "# pressure_field = np.ones(num_cells) * 101\n",
        "# assign_field_to_cells(mesh, pressure_field.flatten(), \"P\")\n",
        "\n",
        "# velocity_field = np.ones((*num_cells,2)) * 0\n",
        "# velocity_field = velocity_field.reshape(-1, 2)\n",
        "# assign_field_to_cells(mesh, velocity_field, \"U\")\n",
        "\n",
        "mesh.print_detailed_info(\"C\")\n",
        "plot_scalar_field(mesh, \"T\", num_cells, system_size, plot_mesh=True)"
      ],
      "metadata": {
        "colab": {
          "base_uri": "https://localhost:8080/",
          "height": 763
        },
        "id": "5deYZfBTzVLY",
        "outputId": "02d9fa66-5a2b-4290-f362-77c6c76476d7"
      },
      "execution_count": 312,
      "outputs": [
        {
          "output_type": "stream",
          "name": "stderr",
          "text": [
            "ic| 'Cells:'\n",
            "ic| cell: Cell(id=0, nodes=[0, 1, 5, 4], faces=[0, 1, 2, 8], neighbor_cells=[1, 3], flow_variables={'T': 282.23015028343025, 'U': None, 'P': None})\n",
            "ic| cell: Cell(id=1, nodes=[1, 2, 6, 5], faces=[2, 3, 4, 10], neighbor_cells=[0, 2, 4], flow_variables={'T': 305.6517258108071, 'U': None, 'P': None})\n",
            "ic| cell: Cell(id=2, nodes=[2, 3, 7, 6], faces=[4, 5, 6, 12], neighbor_cells=[1, 5], flow_variables={'T': 306.96676773132987, 'U': None, 'P': None})\n",
            "ic| cell: Cell(id=3, nodes=[4, 5, 9, 8], faces=[7, 8, 9, 15], neighbor_cells=[0, 4, 6], flow_variables={'T': 290.915575482893, 'U': None, 'P': None})\n",
            "ic| cell: Cell(id=4, nodes=[5, 6, 10, 9], faces=[9, 10, 11, 18], neighbor_cells=[1, 3, 5, 7], flow_variables={'T': 302.78476899193015, 'U': None, 'P': None})\n",
            "ic| cell: Cell(id=5, nodes=[6, 7, 11, 10], faces=[11, 12, 13, 21], neighbor_cells=[2, 4, 8], flow_variables={'T': 295.0051075913935, 'U': None, 'P': None})\n",
            "ic| cell: Cell(id=6, nodes=[8, 9, 13, 12], faces=[14, 15, 17, 16], neighbor_cells=[3, 7], flow_variables={'T': 296.38430074667474, 'U': None, 'P': None})\n",
            "ic| cell: Cell(id=7, nodes=[9, 10, 14, 13], faces=[17, 18, 20, 19], neighbor_cells=[4, 6, 8], flow_variables={'T': 302.17119809351306, 'U': None, 'P': None})\n",
            "ic| cell: Cell(id=8, nodes=[10, 11, 15, 14], faces=[20, 21, 22, 23], neighbor_cells=[5, 7], flow_variables={'T': 294.48853666581607, 'U': None, 'P': None})\n"
          ]
        },
        {
          "output_type": "display_data",
          "data": {
            "text/plain": [
              "<Figure size 800x600 with 2 Axes>"
            ],
            "image/png": "[encoded data removed]"
          },
          "metadata": {}
        }
      ]
    },
    {
      "cell_type": "markdown",
      "source": [
        "#### Calculating cell volumes"
      ],
      "metadata": {
        "id": "LkDSXTNrQ2S9"
      }
    },
    {
      "cell_type": "code",
      "source": [
        "cell_volumes = []\n",
        "for cell in mesh.cells:\n",
        "    cell_nodes = [mesh.get_node(node_id) for node_id in cell.nodes]\n",
        "    cell_volume = compute_cell_volume(mesh, cell)\n",
        "    cell_volumes.append(cell_volume)\n",
        "print(cell_volumes)\n"
      ],
      "metadata": {
        "id": "kUKUH1DBQyY2",
        "outputId": "a3fd49ce-43cd-4fe9-d371-b42196a31937",
        "colab": {
          "base_uri": "https://localhost:8080/"
        }
      },
      "execution_count": 189,
      "outputs": [
        {
          "output_type": "stream",
          "name": "stderr",
          "text": [
            "ic| cell_volumes: [0.25, 0.25, 0.25, 0.25]\n"
          ]
        },
        {
          "output_type": "execute_result",
          "data": {
            "text/plain": [
              "[0.25, 0.25, 0.25, 0.25]"
            ]
          },
          "metadata": {},
          "execution_count": 189
        }
      ]
    },
    {
      "cell_type": "markdown",
      "source": [
        "#### Calculating gradient of a field in the system"
      ],
      "metadata": {
        "id": "YW3bheiooblR"
      }
    },
    {
      "cell_type": "code",
      "source": [],
      "metadata": {
        "id": "MyzphfoKwmKa"
      },
      "execution_count": null,
      "outputs": []
    },
    {
      "cell_type": "markdown",
      "source": [
        "# Numerical solutions to different problems"
      ],
      "metadata": {
        "id": "vyj6-b37HRvI"
      }
    },
    {
      "cell_type": "markdown",
      "source": [
        "## 1D Transient Heat Conduction"
      ],
      "metadata": {
        "id": "cH0BznD_wgnb"
      }
    },
    {
      "cell_type": "code",
      "execution_count": 122,
      "metadata": {
        "colab": {
          "base_uri": "https://localhost:8080/"
        },
        "id": "qk1aQkEKwfnZ",
        "outputId": "6feb6bee-5e0e-40ae-852f-61f9919a24fc"
      },
      "outputs": [
        {
          "output_type": "stream",
          "name": "stderr",
          "text": [
            "ic| alpha: 0.00035714285714285714\n"
          ]
        }
      ],
      "source": [
        "# Initialize parameters of the question\n",
        "k = 50 # Thermal conductivity, W/K\n",
        "L = 0.1 # m\n",
        "A = 75e-6 # m^2\n",
        "cp = 700 # Specific heat capacity, J/(kg * K)\n",
        "rho = 200 # kg/m^3\n",
        "# C = cp*rho # J/K, volume specific\n",
        "alpha = k/(rho*cp) # thermal diffusivity, m^2/s\n",
        "print(alpha)\n",
        "\n",
        "# Drichlet boundary conditions\n",
        "T_L = 390 # K, x=0\n",
        "T_R = 290 # K, x=L\n"
      ]
    },
    {
      "cell_type": "code",
      "source": [
        "# discretize the space\n",
        "n_elem = 10\n",
        "n_nodes = n_elem + 1\n",
        "l_elem = L/n_elem\n",
        "dx = l_elem\n",
        "elem_x = np.linspace(l_elem/2, L-l_elem/2, n_elem)\n",
        "nodes_x = np.linspace(0, L, n_nodes)\n",
        "print(\"Positions of nodes\", nodes_x)\n",
        "\n",
        "n_dof = n_elem # degree of freedom of the system\n",
        "\n",
        "CON = [] # connectivity\n",
        "for i in range(n_elem):\n",
        "    CON.append([i, i+1])\n",
        "print(\"Connectivty\", CON)\n",
        "\n",
        "class Element:\n",
        "    def __init__(self, nodes, x, k, cp, rho, l):\n",
        "        self.nodes = nodes\n",
        "        self.x = x\n",
        "        self.k = k\n",
        "        self.cp = cp\n",
        "        self.rho = rho\n",
        "        self.l = l\n",
        "\n",
        "    def __repr__(self):\n",
        "        return f\"Element(nodes={self.nodes})\"\n",
        "\n",
        "# create elements\n",
        "elements = []\n",
        "for i in range(n_elem):\n",
        "    x = l_elem*(i+0.5)\n",
        "    elements.append(Element(CON[i], elem_x[i], k, cp, rho, l_elem))\n",
        "\n",
        "print(\"Elements\", elements)"
      ],
      "metadata": {
        "colab": {
          "base_uri": "https://localhost:8080/"
        },
        "id": "f6fz82k4ymj6",
        "outputId": "556b0026-b5dd-4822-a7c0-5a15f3c994a2"
      },
      "execution_count": 123,
      "outputs": [
        {
          "output_type": "stream",
          "name": "stderr",
          "text": [
            "ic| \"Positions of nodes\": 'Positions of nodes'\n",
            "    nodes_x: array([0.  , 0.01, 0.02, 0.03, 0.04, 0.05, 0.06, 0.07, 0.08, 0.09, 0.1 ])\n",
            "ic| \"Connectivty\": 'Connectivty'\n",
            "    CON: [[0, 1],\n",
            "          [1, 2],\n",
            "          [2, 3],\n",
            "          [3, 4],\n",
            "          [4, 5],\n",
            "          [5, 6],\n",
            "          [6, 7],\n",
            "          [7, 8],\n",
            "          [8, 9],\n",
            "          [9, 10]]\n",
            "ic| \"Elements\": 'Elements'\n",
            "    elements: [Element(nodes=[0, 1]),\n",
            "               Element(nodes=[1, 2]),\n",
            "               Element(nodes=[2, 3]),\n",
            "               Element(nodes=[3, 4]),\n",
            "               Element(nodes=[4, 5]),\n",
            "               Element(nodes=[5, 6]),\n",
            "               Element(nodes=[6, 7]),\n",
            "               Element(nodes=[7, 8]),\n",
            "               Element(nodes=[8, 9]),\n",
            "               Element(nodes=[9, 10])]\n"
          ]
        },
        {
          "output_type": "execute_result",
          "data": {
            "text/plain": [
              "('Elements',\n",
              " [Element(nodes=[0, 1]),\n",
              "  Element(nodes=[1, 2]),\n",
              "  Element(nodes=[2, 3]),\n",
              "  Element(nodes=[3, 4]),\n",
              "  Element(nodes=[4, 5]),\n",
              "  Element(nodes=[5, 6]),\n",
              "  Element(nodes=[6, 7]),\n",
              "  Element(nodes=[7, 8]),\n",
              "  Element(nodes=[8, 9]),\n",
              "  Element(nodes=[9, 10])])"
            ]
          },
          "metadata": {},
          "execution_count": 123
        }
      ]
    },
    {
      "cell_type": "code",
      "source": [
        "# discretize the time\n",
        "t_final = 10\n",
        "dt = 0.1\n",
        "t = np.arange(0, t_final, dt)\n",
        "\n",
        "# creating temperature values\n",
        "T_0 = 273 # K, initial temperature\n",
        "T = np.ones(n_dof) * T_0 # for two BC\n",
        "dTdt = np.zeros(n_dof)\n",
        "\n",
        "T_log = np.zeros((len(t), n_dof))\n",
        "T_log[0] = T\n",
        "\n",
        "plt.figure(1)\n",
        "\n",
        "for j in range(len(t)):\n",
        "    for i in range(n_dof):\n",
        "        element = elements[i]\n",
        "        alpha = element.k/(element.rho*element.cp)\n",
        "\n",
        "        if i == 0: # left BC\n",
        "            dTdt[i] = alpha*(\n",
        "                -(T[i]-T_L)/(0.5*element.l**2)\n",
        "                +(T[i+1]-T[i])/element.l**2\n",
        "                )\n",
        "        elif i == n_dof-1: # right bC\n",
        "            dTdt[i] = alpha*(\n",
        "                (T[i-1]-T[i])/element.l**2\n",
        "                +(T_R-T[i])/(0.5*element.l**2)\n",
        "                )\n",
        "        else:\n",
        "            dTdt[i] = alpha*(T[i+1]-2*T[i]+T[i-1])/element.l**2\n",
        "    T = T + dTdt*dt\n",
        "    T_log[j] = T\n",
        "\n",
        "    plt.clf()\n",
        "    plt.plot([0, *elem_x, L], [T_L, *T, T_R], marker=\"o\")\n",
        "    plt.xlabel(\"x [m]\")\n",
        "    plt.ylabel(\"T [K]\")\n",
        "    plt.show()\n",
        "    display.clear_output(wait=True)\n"
      ],
      "metadata": {
        "colab": {
          "base_uri": "https://localhost:8080/",
          "height": 449
        },
        "id": "aUwLpUBB9AxB",
        "outputId": "bc028206-d717-4af1-b1cb-7efc618f1f93"
      },
      "execution_count": 124,
      "outputs": [
        {
          "output_type": "display_data",
          "data": {
            "text/plain": [
              "<Figure size 640x480 with 1 Axes>"
            ],
            "image/png": "[encoded data removed]"
          },
          "metadata": {}
        }
      ]
    },
    {
      "cell_type": "markdown",
      "source": [
        "## 2D Steady Heat Conduction (explicit)"
      ],
      "metadata": {
        "id": "HwdB_oV1uqSt"
      }
    },
    {
      "cell_type": "code",
      "source": [
        "# properties\n",
        "L = 1 # m\n",
        "k = 50 # Thermal conductivity, W/K\n",
        "\n",
        "# domain discretization\n",
        "n_elem = 20 # in one direction\n",
        "dx = dy = L/(n_elem+2)\n",
        "# elem_x = np.linspace(dx/2, L-dx/2, n_elem) # to use this type of mesh, code should chane\n",
        "# elem_y = np.linspace(dy/2, L-dy/2, n_elem)\n",
        "elem_x = np.linspace(0, L, n_elem+2)\n",
        "elem_y = np.linspace(0, L, n_elem+2)\n",
        "\n",
        "elem_coords = np.array([(x, y) for x in elem_x for y in elem_y])\n",
        "elem_coords[:5,:]"
      ],
      "metadata": {
        "colab": {
          "base_uri": "https://localhost:8080/"
        },
        "id": "I-iHBsZaupt1",
        "outputId": "626324a3-726b-40aa-e524-e20c81fe7c14"
      },
      "execution_count": 125,
      "outputs": [
        {
          "output_type": "execute_result",
          "data": {
            "text/plain": [
              "array([[0.        , 0.        ],\n",
              "       [0.        , 0.04761905],\n",
              "       [0.        , 0.0952381 ],\n",
              "       [0.        , 0.14285714],\n",
              "       [0.        , 0.19047619]])"
            ]
          },
          "metadata": {},
          "execution_count": 125
        }
      ]
    },
    {
      "cell_type": "code",
      "source": [
        "# temperature values\n",
        "T = np.zeros((n_elem+2, n_elem+2))\n",
        "# Drichlet BCs\n",
        "T[0,:] = 1  # Top\n",
        "T[-1,:] = 0 # Bottom\n",
        "T[:,0] = 0  # Left\n",
        "T[:,-1] = 0 # Right\n",
        "\n",
        "T_new = T.copy()\n",
        "\n",
        "tol = 1e-8\n",
        "numerical_error = 2*tol\n",
        "while numerical_error > tol:\n",
        "    for i in range(1,n_elem+1):\n",
        "        for j in range(1,n_elem+1):\n",
        "            a_e = k/dx\n",
        "            a_w = k/dx\n",
        "            a_s = k/dy\n",
        "            a_n = k/dy\n",
        "            a_p = a_e + a_w + a_s + a_n\n",
        "            T_new[i,j] = (a_e*T[i,j+1] + a_w*T[i,j-1] + a_n*T[i-1,j] + a_s*T[i+1,j])/a_p\n",
        "\n",
        "    numerical_error = np.max(np.abs(T_new-T))\n",
        "\n",
        "    T = T_new.copy()\n",
        "\n",
        "\n",
        "# plot 2d map of temperaturs\n",
        "X, Y = np.meshgrid(elem_x, L-elem_y)\n",
        "plt.contourf(X, Y, T, 10)\n",
        "# plt.pcolormesh(X, Y, T)\n",
        "plt.xlabel(\"x [m]\")\n",
        "plt.ylabel(\"y [m]\")\n",
        "plt.colorbar()\n",
        "plt.title(f\"Temperature distribution\")\n",
        "plt.show()\n"
      ],
      "metadata": {
        "colab": {
          "base_uri": "https://localhost:8080/",
          "height": 472
        },
        "id": "4yVWYcB6xqQt",
        "outputId": "00fdb224-ea56-4c1f-cce9-2e13a47fdb34"
      },
      "execution_count": 126,
      "outputs": [
        {
          "output_type": "display_data",
          "data": {
            "text/plain": [
              "<Figure size 640x480 with 2 Axes>"
            ],
            "image/png": "[encoded data removed]"
          },
          "metadata": {}
        }
      ]
    },
    {
      "cell_type": "markdown",
      "source": [
        "## 2D Transient Heat Conduction (explicit)"
      ],
      "metadata": {
        "id": "S0Y2crDq6rOs"
      }
    },
    {
      "cell_type": "code",
      "source": [
        "# properties\n",
        "L = 0.2 # m\n",
        "k = 250 # Thermal conductivity, W/K\n",
        "cp = 900 # Specific heat capacity, J/(kg * K)\n",
        "rho = 2700 # kg/m^3\n",
        "alpha = k/(rho*cp) # thermal diffusivity, m^2/s\n",
        "\n",
        "n_elem = 10 # in one direction\n",
        "dx = dy = L/(n_elem+2)\n",
        "# dz = 1\n",
        "dV = dx*dy\n",
        "Ae = Aw = dy\n",
        "An = As = dx\n",
        "\n",
        "elem_x = np.linspace(0, L, n_elem+2)\n",
        "elem_y = np.linspace(0, L, n_elem+2)\n",
        "X, Y = np.meshgrid(elem_x, L-elem_y)\n",
        "\n",
        "\n",
        "elem_coords = np.array([(x, y) for x in elem_x for y in elem_y])\n",
        "elem_coords[:5,:]"
      ],
      "metadata": {
        "colab": {
          "base_uri": "https://localhost:8080/"
        },
        "id": "pLidB8Mb30mV",
        "outputId": "34ab6049-3f02-4217-bd4b-15916adcac2d"
      },
      "execution_count": 127,
      "outputs": [
        {
          "output_type": "execute_result",
          "data": {
            "text/plain": [
              "array([[0.        , 0.        ],\n",
              "       [0.        , 0.01818182],\n",
              "       [0.        , 0.03636364],\n",
              "       [0.        , 0.05454545],\n",
              "       [0.        , 0.07272727]])"
            ]
          },
          "metadata": {},
          "execution_count": 127
        }
      ]
    },
    {
      "cell_type": "code",
      "source": [
        "# temperature values\n",
        "T = np.zeros((n_elem+2, n_elem+2))\n",
        "# Drichlet BCs\n",
        "T[-1,:] = 0 # Bottom\n",
        "T[:,0] = 0  # Left\n",
        "T[:,-1] = 200 # Right\n",
        "T[0,:] = 300  # Top\n",
        "\n",
        "t_final = 30\n",
        "dt = 0.1\n",
        "t = np.arange(0, t_final, dt)\n",
        "\n",
        "plt.figure(1)\n",
        "for k in range(len(t)):\n",
        "    for i in range(1,n_elem+1):\n",
        "        for j in range(1,n_elem+1):\n",
        "            T_E = T[i,j-1]\n",
        "            T_W = T[i,j+1]\n",
        "            T_N = T[i-1,j]\n",
        "            T_S = T[i+1,j]\n",
        "            T_P = T[i,j]\n",
        "\n",
        "            X_right = alpha*dt*Ae/dV * (T_E-T_P)/dx\n",
        "            X_left = alpha*dt*Aw/dV * (T_W-T_P)/dx\n",
        "            Y_up = alpha*dt*An/dV * (T_N-T_P)/dy\n",
        "            Y_down = alpha*dt*As/dV * (T_S-T_P)/dy\n",
        "\n",
        "            T[i,j] = T[i,j] + X_right + X_left + Y_up + Y_down\n",
        "\n",
        "    # plt.pcolormesh(X, Y, T)\n",
        "    plt.contourf(X, Y, T, 10)\n",
        "    plt.xlabel(\"x [m]\")\n",
        "    plt.ylabel(\"y [m]\")\n",
        "    plt.colorbar()\n",
        "    plt.title(f\"Temperature distribution\")\n",
        "    plt.show()\n",
        "    display.clear_output(wait=True)\n"
      ],
      "metadata": {
        "colab": {
          "base_uri": "https://localhost:8080/",
          "height": 383
        },
        "id": "FUVpnlgu-Thq",
        "outputId": "4b2fada3-32e4-46d4-fb1b-e3e58f8a8c3a"
      },
      "execution_count": 128,
      "outputs": [
        {
          "output_type": "error",
          "ename": "KeyboardInterrupt",
          "evalue": "",
          "traceback": [
            "\u001b[0;31m---------------------------------------------------------------------------\u001b[0m",
            "\u001b[0;31mKeyboardInterrupt\u001b[0m                         Traceback (most recent call last)",
            "\u001b[0;32m<ipython-input-128-5a9f963e1b91>\u001b[0m in \u001b[0;36m<cell line: 14>\u001b[0;34m()\u001b[0m\n\u001b[1;32m     34\u001b[0m     \u001b[0mplt\u001b[0m\u001b[0;34m.\u001b[0m\u001b[0mcolorbar\u001b[0m\u001b[0;34m(\u001b[0m\u001b[0;34m)\u001b[0m\u001b[0;34m\u001b[0m\u001b[0;34m\u001b[0m\u001b[0m\n\u001b[1;32m     35\u001b[0m     \u001b[0mplt\u001b[0m\u001b[0;34m.\u001b[0m\u001b[0mtitle\u001b[0m\u001b[0;34m(\u001b[0m\u001b[0;34mf\"Temperature distribution\"\u001b[0m\u001b[0;34m)\u001b[0m\u001b[0;34m\u001b[0m\u001b[0;34m\u001b[0m\u001b[0m\n\u001b[0;32m---> 36\u001b[0;31m     \u001b[0mplt\u001b[0m\u001b[0;34m.\u001b[0m\u001b[0mshow\u001b[0m\u001b[0;34m(\u001b[0m\u001b[0;34m)\u001b[0m\u001b[0;34m\u001b[0m\u001b[0;34m\u001b[0m\u001b[0m\n\u001b[0m\u001b[1;32m     37\u001b[0m     \u001b[0mdisplay\u001b[0m\u001b[0;34m.\u001b[0m\u001b[0mclear_output\u001b[0m\u001b[0;34m(\u001b[0m\u001b[0mwait\u001b[0m\u001b[0;34m=\u001b[0m\u001b[0;32mTrue\u001b[0m\u001b[0;34m)\u001b[0m\u001b[0;34m\u001b[0m\u001b[0;34m\u001b[0m\u001b[0m\n",
            "\u001b[0;32m/usr/local/lib/python3.10/dist-packages/matplotlib/pyplot.py\u001b[0m in \u001b[0;36mshow\u001b[0;34m(*args, **kwargs)\u001b[0m\n\u001b[1;32m    525\u001b[0m     \"\"\"\n\u001b[1;32m    526\u001b[0m     \u001b[0m_warn_if_gui_out_of_main_thread\u001b[0m\u001b[0;34m(\u001b[0m\u001b[0;34m)\u001b[0m\u001b[0;34m\u001b[0m\u001b[0;34m\u001b[0m\u001b[0m\n\u001b[0;32m--> 527\u001b[0;31m     \u001b[0;32mreturn\u001b[0m \u001b[0m_get_backend_mod\u001b[0m\u001b[0;34m(\u001b[0m\u001b[0;34m)\u001b[0m\u001b[0;34m.\u001b[0m\u001b[0mshow\u001b[0m\u001b[0;34m(\u001b[0m\u001b[0;34m*\u001b[0m\u001b[0margs\u001b[0m\u001b[0;34m,\u001b[0m \u001b[0;34m**\u001b[0m\u001b[0mkwargs\u001b[0m\u001b[0;34m)\u001b[0m\u001b[0;34m\u001b[0m\u001b[0;34m\u001b[0m\u001b[0m\n\u001b[0m\u001b[1;32m    528\u001b[0m \u001b[0;34m\u001b[0m\u001b[0m\n\u001b[1;32m    529\u001b[0m \u001b[0;34m\u001b[0m\u001b[0m\n",
            "\u001b[0;32m/usr/local/lib/python3.10/dist-packages/matplotlib_inline/backend_inline.py\u001b[0m in \u001b[0;36mshow\u001b[0;34m(close, block)\u001b[0m\n\u001b[1;32m     88\u001b[0m     \u001b[0;32mtry\u001b[0m\u001b[0;34m:\u001b[0m\u001b[0;34m\u001b[0m\u001b[0;34m\u001b[0m\u001b[0m\n\u001b[1;32m     89\u001b[0m         \u001b[0;32mfor\u001b[0m \u001b[0mfigure_manager\u001b[0m \u001b[0;32min\u001b[0m \u001b[0mGcf\u001b[0m\u001b[0;34m.\u001b[0m\u001b[0mget_all_fig_managers\u001b[0m\u001b[0;34m(\u001b[0m\u001b[0;34m)\u001b[0m\u001b[0;34m:\u001b[0m\u001b[0;34m\u001b[0m\u001b[0;34m\u001b[0m\u001b[0m\n\u001b[0;32m---> 90\u001b[0;31m             display(\n\u001b[0m\u001b[1;32m     91\u001b[0m                 \u001b[0mfigure_manager\u001b[0m\u001b[0;34m.\u001b[0m\u001b[0mcanvas\u001b[0m\u001b[0;34m.\u001b[0m\u001b[0mfigure\u001b[0m\u001b[0;34m,\u001b[0m\u001b[0;34m\u001b[0m\u001b[0;34m\u001b[0m\u001b[0m\n\u001b[1;32m     92\u001b[0m                 \u001b[0mmetadata\u001b[0m\u001b[0;34m=\u001b[0m\u001b[0m_fetch_figure_metadata\u001b[0m\u001b[0;34m(\u001b[0m\u001b[0mfigure_manager\u001b[0m\u001b[0;34m.\u001b[0m\u001b[0mcanvas\u001b[0m\u001b[0;34m.\u001b[0m\u001b[0mfigure\u001b[0m\u001b[0;34m)\u001b[0m\u001b[0;34m\u001b[0m\u001b[0;34m\u001b[0m\u001b[0m\n",
            "\u001b[0;32m/usr/local/lib/python3.10/dist-packages/IPython/core/display.py\u001b[0m in \u001b[0;36mdisplay\u001b[0;34m(include, exclude, metadata, transient, display_id, *objs, **kwargs)\u001b[0m\n\u001b[1;32m    318\u001b[0m             \u001b[0mpublish_display_data\u001b[0m\u001b[0;34m(\u001b[0m\u001b[0mdata\u001b[0m\u001b[0;34m=\u001b[0m\u001b[0mobj\u001b[0m\u001b[0;34m,\u001b[0m \u001b[0mmetadata\u001b[0m\u001b[0;34m=\u001b[0m\u001b[0mmetadata\u001b[0m\u001b[0;34m,\u001b[0m \u001b[0;34m**\u001b[0m\u001b[0mkwargs\u001b[0m\u001b[0;34m)\u001b[0m\u001b[0;34m\u001b[0m\u001b[0;34m\u001b[0m\u001b[0m\n\u001b[1;32m    319\u001b[0m         \u001b[0;32melse\u001b[0m\u001b[0;34m:\u001b[0m\u001b[0;34m\u001b[0m\u001b[0;34m\u001b[0m\u001b[0m\n\u001b[0;32m--> 320\u001b[0;31m             \u001b[0mformat_dict\u001b[0m\u001b[0;34m,\u001b[0m \u001b[0mmd_dict\u001b[0m \u001b[0;34m=\u001b[0m \u001b[0mformat\u001b[0m\u001b[0;34m(\u001b[0m\u001b[0mobj\u001b[0m\u001b[0;34m,\u001b[0m \u001b[0minclude\u001b[0m\u001b[0;34m=\u001b[0m\u001b[0minclude\u001b[0m\u001b[0;34m,\u001b[0m \u001b[0mexclude\u001b[0m\u001b[0;34m=\u001b[0m\u001b[0mexclude\u001b[0m\u001b[0;34m)\u001b[0m\u001b[0;34m\u001b[0m\u001b[0;34m\u001b[0m\u001b[0m\n\u001b[0m\u001b[1;32m    321\u001b[0m             \u001b[0;32mif\u001b[0m \u001b[0;32mnot\u001b[0m \u001b[0mformat_dict\u001b[0m\u001b[0;34m:\u001b[0m\u001b[0;34m\u001b[0m\u001b[0;34m\u001b[0m\u001b[0m\n\u001b[1;32m    322\u001b[0m                 \u001b[0;31m# nothing to display (e.g. _ipython_display_ took over)\u001b[0m\u001b[0;34m\u001b[0m\u001b[0;34m\u001b[0m\u001b[0m\n",
            "\u001b[0;32m/usr/local/lib/python3.10/dist-packages/IPython/core/formatters.py\u001b[0m in \u001b[0;36mformat\u001b[0;34m(self, obj, include, exclude)\u001b[0m\n\u001b[1;32m    178\u001b[0m             \u001b[0mmd\u001b[0m \u001b[0;34m=\u001b[0m \u001b[0;32mNone\u001b[0m\u001b[0;34m\u001b[0m\u001b[0;34m\u001b[0m\u001b[0m\n\u001b[1;32m    179\u001b[0m             \u001b[0;32mtry\u001b[0m\u001b[0;34m:\u001b[0m\u001b[0;34m\u001b[0m\u001b[0;34m\u001b[0m\u001b[0m\n\u001b[0;32m--> 180\u001b[0;31m                 \u001b[0mdata\u001b[0m \u001b[0;34m=\u001b[0m \u001b[0mformatter\u001b[0m\u001b[0;34m(\u001b[0m\u001b[0mobj\u001b[0m\u001b[0;34m)\u001b[0m\u001b[0;34m\u001b[0m\u001b[0;34m\u001b[0m\u001b[0m\n\u001b[0m\u001b[1;32m    181\u001b[0m             \u001b[0;32mexcept\u001b[0m\u001b[0;34m:\u001b[0m\u001b[0;34m\u001b[0m\u001b[0;34m\u001b[0m\u001b[0m\n\u001b[1;32m    182\u001b[0m                 \u001b[0;31m# FIXME: log the exception\u001b[0m\u001b[0;34m\u001b[0m\u001b[0;34m\u001b[0m\u001b[0m\n",
            "\u001b[0;32m<decorator-gen-2>\u001b[0m in \u001b[0;36m__call__\u001b[0;34m(self, obj)\u001b[0m\n",
            "\u001b[0;32m/usr/local/lib/python3.10/dist-packages/IPython/core/formatters.py\u001b[0m in \u001b[0;36mcatch_format_error\u001b[0;34m(method, self, *args, **kwargs)\u001b[0m\n\u001b[1;32m    222\u001b[0m     \u001b[0;34m\"\"\"show traceback on failed format call\"\"\"\u001b[0m\u001b[0;34m\u001b[0m\u001b[0;34m\u001b[0m\u001b[0m\n\u001b[1;32m    223\u001b[0m     \u001b[0;32mtry\u001b[0m\u001b[0;34m:\u001b[0m\u001b[0;34m\u001b[0m\u001b[0;34m\u001b[0m\u001b[0m\n\u001b[0;32m--> 224\u001b[0;31m         \u001b[0mr\u001b[0m \u001b[0;34m=\u001b[0m \u001b[0mmethod\u001b[0m\u001b[0;34m(\u001b[0m\u001b[0mself\u001b[0m\u001b[0;34m,\u001b[0m \u001b[0;34m*\u001b[0m\u001b[0margs\u001b[0m\u001b[0;34m,\u001b[0m \u001b[0;34m**\u001b[0m\u001b[0mkwargs\u001b[0m\u001b[0;34m)\u001b[0m\u001b[0;34m\u001b[0m\u001b[0;34m\u001b[0m\u001b[0m\n\u001b[0m\u001b[1;32m    225\u001b[0m     \u001b[0;32mexcept\u001b[0m \u001b[0mNotImplementedError\u001b[0m\u001b[0;34m:\u001b[0m\u001b[0;34m\u001b[0m\u001b[0;34m\u001b[0m\u001b[0m\n\u001b[1;32m    226\u001b[0m         \u001b[0;31m# don't warn on NotImplementedErrors\u001b[0m\u001b[0;34m\u001b[0m\u001b[0;34m\u001b[0m\u001b[0m\n",
            "\u001b[0;32m/usr/local/lib/python3.10/dist-packages/IPython/core/formatters.py\u001b[0m in \u001b[0;36m__call__\u001b[0;34m(self, obj)\u001b[0m\n\u001b[1;32m    339\u001b[0m                 \u001b[0;32mpass\u001b[0m\u001b[0;34m\u001b[0m\u001b[0;34m\u001b[0m\u001b[0m\n\u001b[1;32m    340\u001b[0m             \u001b[0;32melse\u001b[0m\u001b[0;34m:\u001b[0m\u001b[0;34m\u001b[0m\u001b[0;34m\u001b[0m\u001b[0m\n\u001b[0;32m--> 341\u001b[0;31m                 \u001b[0;32mreturn\u001b[0m \u001b[0mprinter\u001b[0m\u001b[0;34m(\u001b[0m\u001b[0mobj\u001b[0m\u001b[0;34m)\u001b[0m\u001b[0;34m\u001b[0m\u001b[0;34m\u001b[0m\u001b[0m\n\u001b[0m\u001b[1;32m    342\u001b[0m             \u001b[0;31m# Finally look for special method names\u001b[0m\u001b[0;34m\u001b[0m\u001b[0;34m\u001b[0m\u001b[0m\n\u001b[1;32m    343\u001b[0m             \u001b[0mmethod\u001b[0m \u001b[0;34m=\u001b[0m \u001b[0mget_real_method\u001b[0m\u001b[0;34m(\u001b[0m\u001b[0mobj\u001b[0m\u001b[0;34m,\u001b[0m \u001b[0mself\u001b[0m\u001b[0;34m.\u001b[0m\u001b[0mprint_method\u001b[0m\u001b[0;34m)\u001b[0m\u001b[0;34m\u001b[0m\u001b[0;34m\u001b[0m\u001b[0m\n",
            "\u001b[0;32m/usr/local/lib/python3.10/dist-packages/IPython/core/pylabtools.py\u001b[0m in \u001b[0;36mprint_figure\u001b[0;34m(fig, fmt, bbox_inches, base64, **kwargs)\u001b[0m\n\u001b[1;32m    149\u001b[0m         \u001b[0mFigureCanvasBase\u001b[0m\u001b[0;34m(\u001b[0m\u001b[0mfig\u001b[0m\u001b[0;34m)\u001b[0m\u001b[0;34m\u001b[0m\u001b[0;34m\u001b[0m\u001b[0m\n\u001b[1;32m    150\u001b[0m \u001b[0;34m\u001b[0m\u001b[0m\n\u001b[0;32m--> 151\u001b[0;31m     \u001b[0mfig\u001b[0m\u001b[0;34m.\u001b[0m\u001b[0mcanvas\u001b[0m\u001b[0;34m.\u001b[0m\u001b[0mprint_figure\u001b[0m\u001b[0;34m(\u001b[0m\u001b[0mbytes_io\u001b[0m\u001b[0;34m,\u001b[0m \u001b[0;34m**\u001b[0m\u001b[0mkw\u001b[0m\u001b[0;34m)\u001b[0m\u001b[0;34m\u001b[0m\u001b[0;34m\u001b[0m\u001b[0m\n\u001b[0m\u001b[1;32m    152\u001b[0m     \u001b[0mdata\u001b[0m \u001b[0;34m=\u001b[0m \u001b[0mbytes_io\u001b[0m\u001b[0;34m.\u001b[0m\u001b[0mgetvalue\u001b[0m\u001b[0;34m(\u001b[0m\u001b[0;34m)\u001b[0m\u001b[0;34m\u001b[0m\u001b[0;34m\u001b[0m\u001b[0m\n\u001b[1;32m    153\u001b[0m     \u001b[0;32mif\u001b[0m \u001b[0mfmt\u001b[0m \u001b[0;34m==\u001b[0m \u001b[0;34m'svg'\u001b[0m\u001b[0;34m:\u001b[0m\u001b[0;34m\u001b[0m\u001b[0;34m\u001b[0m\u001b[0m\n",
            "\u001b[0;32m/usr/local/lib/python3.10/dist-packages/matplotlib/backend_bases.py\u001b[0m in \u001b[0;36mprint_figure\u001b[0;34m(self, filename, dpi, facecolor, edgecolor, orientation, format, bbox_inches, pad_inches, bbox_extra_artists, backend, **kwargs)\u001b[0m\n\u001b[1;32m   2185\u001b[0m                 \u001b[0;31m# force the figure dpi to 72), so we need to set it again here.\u001b[0m\u001b[0;34m\u001b[0m\u001b[0;34m\u001b[0m\u001b[0m\n\u001b[1;32m   2186\u001b[0m                 \u001b[0;32mwith\u001b[0m \u001b[0mcbook\u001b[0m\u001b[0;34m.\u001b[0m\u001b[0m_setattr_cm\u001b[0m\u001b[0;34m(\u001b[0m\u001b[0mself\u001b[0m\u001b[0;34m.\u001b[0m\u001b[0mfigure\u001b[0m\u001b[0;34m,\u001b[0m \u001b[0mdpi\u001b[0m\u001b[0;34m=\u001b[0m\u001b[0mdpi\u001b[0m\u001b[0;34m)\u001b[0m\u001b[0;34m:\u001b[0m\u001b[0;34m\u001b[0m\u001b[0;34m\u001b[0m\u001b[0m\n\u001b[0;32m-> 2187\u001b[0;31m                     result = print_method(\n\u001b[0m\u001b[1;32m   2188\u001b[0m                         \u001b[0mfilename\u001b[0m\u001b[0;34m,\u001b[0m\u001b[0;34m\u001b[0m\u001b[0;34m\u001b[0m\u001b[0m\n\u001b[1;32m   2189\u001b[0m                         \u001b[0mfacecolor\u001b[0m\u001b[0;34m=\u001b[0m\u001b[0mfacecolor\u001b[0m\u001b[0;34m,\u001b[0m\u001b[0;34m\u001b[0m\u001b[0;34m\u001b[0m\u001b[0m\n",
            "\u001b[0;32m/usr/local/lib/python3.10/dist-packages/matplotlib/backend_bases.py\u001b[0m in \u001b[0;36m<lambda>\u001b[0;34m(*args, **kwargs)\u001b[0m\n\u001b[1;32m   2041\u001b[0m                 \"bbox_inches_restore\"}\n\u001b[1;32m   2042\u001b[0m             \u001b[0mskip\u001b[0m \u001b[0;34m=\u001b[0m \u001b[0moptional_kws\u001b[0m \u001b[0;34m-\u001b[0m \u001b[0;34m{\u001b[0m\u001b[0;34m*\u001b[0m\u001b[0minspect\u001b[0m\u001b[0;34m.\u001b[0m\u001b[0msignature\u001b[0m\u001b[0;34m(\u001b[0m\u001b[0mmeth\u001b[0m\u001b[0;34m)\u001b[0m\u001b[0;34m.\u001b[0m\u001b[0mparameters\u001b[0m\u001b[0;34m}\u001b[0m\u001b[0;34m\u001b[0m\u001b[0;34m\u001b[0m\u001b[0m\n\u001b[0;32m-> 2043\u001b[0;31m             print_method = functools.wraps(meth)(lambda *args, **kwargs: meth(\n\u001b[0m\u001b[1;32m   2044\u001b[0m                 *args, **{k: v for k, v in kwargs.items() if k not in skip}))\n\u001b[1;32m   2045\u001b[0m         \u001b[0;32melse\u001b[0m\u001b[0;34m:\u001b[0m  \u001b[0;31m# Let third-parties do as they see fit.\u001b[0m\u001b[0;34m\u001b[0m\u001b[0;34m\u001b[0m\u001b[0m\n",
            "\u001b[0;32m/usr/local/lib/python3.10/dist-packages/matplotlib/backends/backend_agg.py\u001b[0m in \u001b[0;36mprint_png\u001b[0;34m(self, filename_or_obj, metadata, pil_kwargs)\u001b[0m\n\u001b[1;32m    495\u001b[0m             \u001b[0;34m*\u001b[0m\u001b[0mmetadata\u001b[0m\u001b[0;34m*\u001b[0m\u001b[0;34m,\u001b[0m \u001b[0mincluding\u001b[0m \u001b[0mthe\u001b[0m \u001b[0mdefault\u001b[0m \u001b[0;34m'Software'\u001b[0m \u001b[0mkey\u001b[0m\u001b[0;34m.\u001b[0m\u001b[0;34m\u001b[0m\u001b[0;34m\u001b[0m\u001b[0m\n\u001b[1;32m    496\u001b[0m         \"\"\"\n\u001b[0;32m--> 497\u001b[0;31m         \u001b[0mself\u001b[0m\u001b[0;34m.\u001b[0m\u001b[0m_print_pil\u001b[0m\u001b[0;34m(\u001b[0m\u001b[0mfilename_or_obj\u001b[0m\u001b[0;34m,\u001b[0m \u001b[0;34m\"png\"\u001b[0m\u001b[0;34m,\u001b[0m \u001b[0mpil_kwargs\u001b[0m\u001b[0;34m,\u001b[0m \u001b[0mmetadata\u001b[0m\u001b[0;34m)\u001b[0m\u001b[0;34m\u001b[0m\u001b[0;34m\u001b[0m\u001b[0m\n\u001b[0m\u001b[1;32m    498\u001b[0m \u001b[0;34m\u001b[0m\u001b[0m\n\u001b[1;32m    499\u001b[0m     \u001b[0;32mdef\u001b[0m \u001b[0mprint_to_buffer\u001b[0m\u001b[0;34m(\u001b[0m\u001b[0mself\u001b[0m\u001b[0;34m)\u001b[0m\u001b[0;34m:\u001b[0m\u001b[0;34m\u001b[0m\u001b[0;34m\u001b[0m\u001b[0m\n",
            "\u001b[0;32m/usr/local/lib/python3.10/dist-packages/matplotlib/backends/backend_agg.py\u001b[0m in \u001b[0;36m_print_pil\u001b[0;34m(self, filename_or_obj, fmt, pil_kwargs, metadata)\u001b[0m\n\u001b[1;32m    443\u001b[0m         *pil_kwargs* and *metadata* are forwarded).\n\u001b[1;32m    444\u001b[0m         \"\"\"\n\u001b[0;32m--> 445\u001b[0;31m         \u001b[0mFigureCanvasAgg\u001b[0m\u001b[0;34m.\u001b[0m\u001b[0mdraw\u001b[0m\u001b[0;34m(\u001b[0m\u001b[0mself\u001b[0m\u001b[0;34m)\u001b[0m\u001b[0;34m\u001b[0m\u001b[0;34m\u001b[0m\u001b[0m\n\u001b[0m\u001b[1;32m    446\u001b[0m         mpl.image.imsave(\n\u001b[1;32m    447\u001b[0m             \u001b[0mfilename_or_obj\u001b[0m\u001b[0;34m,\u001b[0m \u001b[0mself\u001b[0m\u001b[0;34m.\u001b[0m\u001b[0mbuffer_rgba\u001b[0m\u001b[0;34m(\u001b[0m\u001b[0;34m)\u001b[0m\u001b[0;34m,\u001b[0m \u001b[0mformat\u001b[0m\u001b[0;34m=\u001b[0m\u001b[0mfmt\u001b[0m\u001b[0;34m,\u001b[0m \u001b[0morigin\u001b[0m\u001b[0;34m=\u001b[0m\u001b[0;34m\"upper\"\u001b[0m\u001b[0;34m,\u001b[0m\u001b[0;34m\u001b[0m\u001b[0;34m\u001b[0m\u001b[0m\n",
            "\u001b[0;32m/usr/local/lib/python3.10/dist-packages/matplotlib/backends/backend_agg.py\u001b[0m in \u001b[0;36mdraw\u001b[0;34m(self)\u001b[0m\n\u001b[1;32m    386\u001b[0m         with (self.toolbar._wait_cursor_for_draw_cm() if self.toolbar\n\u001b[1;32m    387\u001b[0m               else nullcontext()):\n\u001b[0;32m--> 388\u001b[0;31m             \u001b[0mself\u001b[0m\u001b[0;34m.\u001b[0m\u001b[0mfigure\u001b[0m\u001b[0;34m.\u001b[0m\u001b[0mdraw\u001b[0m\u001b[0;34m(\u001b[0m\u001b[0mself\u001b[0m\u001b[0;34m.\u001b[0m\u001b[0mrenderer\u001b[0m\u001b[0;34m)\u001b[0m\u001b[0;34m\u001b[0m\u001b[0;34m\u001b[0m\u001b[0m\n\u001b[0m\u001b[1;32m    389\u001b[0m             \u001b[0;31m# A GUI class may be need to update a window using this draw, so\u001b[0m\u001b[0;34m\u001b[0m\u001b[0;34m\u001b[0m\u001b[0m\n\u001b[1;32m    390\u001b[0m             \u001b[0;31m# don't forget to call the superclass.\u001b[0m\u001b[0;34m\u001b[0m\u001b[0;34m\u001b[0m\u001b[0m\n",
            "\u001b[0;32m/usr/local/lib/python3.10/dist-packages/matplotlib/artist.py\u001b[0m in \u001b[0;36mdraw_wrapper\u001b[0;34m(artist, renderer, *args, **kwargs)\u001b[0m\n\u001b[1;32m     93\u001b[0m     \u001b[0;34m@\u001b[0m\u001b[0mwraps\u001b[0m\u001b[0;34m(\u001b[0m\u001b[0mdraw\u001b[0m\u001b[0;34m)\u001b[0m\u001b[0;34m\u001b[0m\u001b[0;34m\u001b[0m\u001b[0m\n\u001b[1;32m     94\u001b[0m     \u001b[0;32mdef\u001b[0m \u001b[0mdraw_wrapper\u001b[0m\u001b[0;34m(\u001b[0m\u001b[0martist\u001b[0m\u001b[0;34m,\u001b[0m \u001b[0mrenderer\u001b[0m\u001b[0;34m,\u001b[0m \u001b[0;34m*\u001b[0m\u001b[0margs\u001b[0m\u001b[0;34m,\u001b[0m \u001b[0;34m**\u001b[0m\u001b[0mkwargs\u001b[0m\u001b[0;34m)\u001b[0m\u001b[0;34m:\u001b[0m\u001b[0;34m\u001b[0m\u001b[0;34m\u001b[0m\u001b[0m\n\u001b[0;32m---> 95\u001b[0;31m         \u001b[0mresult\u001b[0m \u001b[0;34m=\u001b[0m \u001b[0mdraw\u001b[0m\u001b[0;34m(\u001b[0m\u001b[0martist\u001b[0m\u001b[0;34m,\u001b[0m \u001b[0mrenderer\u001b[0m\u001b[0;34m,\u001b[0m \u001b[0;34m*\u001b[0m\u001b[0margs\u001b[0m\u001b[0;34m,\u001b[0m \u001b[0;34m**\u001b[0m\u001b[0mkwargs\u001b[0m\u001b[0;34m)\u001b[0m\u001b[0;34m\u001b[0m\u001b[0;34m\u001b[0m\u001b[0m\n\u001b[0m\u001b[1;32m     96\u001b[0m         \u001b[0;32mif\u001b[0m \u001b[0mrenderer\u001b[0m\u001b[0;34m.\u001b[0m\u001b[0m_rasterizing\u001b[0m\u001b[0;34m:\u001b[0m\u001b[0;34m\u001b[0m\u001b[0;34m\u001b[0m\u001b[0m\n\u001b[1;32m     97\u001b[0m             \u001b[0mrenderer\u001b[0m\u001b[0;34m.\u001b[0m\u001b[0mstop_rasterizing\u001b[0m\u001b[0;34m(\u001b[0m\u001b[0;34m)\u001b[0m\u001b[0;34m\u001b[0m\u001b[0;34m\u001b[0m\u001b[0m\n",
            "\u001b[0;32m/usr/local/lib/python3.10/dist-packages/matplotlib/artist.py\u001b[0m in \u001b[0;36mdraw_wrapper\u001b[0;34m(artist, renderer)\u001b[0m\n\u001b[1;32m     70\u001b[0m                 \u001b[0mrenderer\u001b[0m\u001b[0;34m.\u001b[0m\u001b[0mstart_filter\u001b[0m\u001b[0;34m(\u001b[0m\u001b[0;34m)\u001b[0m\u001b[0;34m\u001b[0m\u001b[0;34m\u001b[0m\u001b[0m\n\u001b[1;32m     71\u001b[0m \u001b[0;34m\u001b[0m\u001b[0m\n\u001b[0;32m---> 72\u001b[0;31m             \u001b[0;32mreturn\u001b[0m \u001b[0mdraw\u001b[0m\u001b[0;34m(\u001b[0m\u001b[0martist\u001b[0m\u001b[0;34m,\u001b[0m \u001b[0mrenderer\u001b[0m\u001b[0;34m)\u001b[0m\u001b[0;34m\u001b[0m\u001b[0;34m\u001b[0m\u001b[0m\n\u001b[0m\u001b[1;32m     73\u001b[0m         \u001b[0;32mfinally\u001b[0m\u001b[0;34m:\u001b[0m\u001b[0;34m\u001b[0m\u001b[0;34m\u001b[0m\u001b[0m\n\u001b[1;32m     74\u001b[0m             \u001b[0;32mif\u001b[0m \u001b[0martist\u001b[0m\u001b[0;34m.\u001b[0m\u001b[0mget_agg_filter\u001b[0m\u001b[0;34m(\u001b[0m\u001b[0;34m)\u001b[0m \u001b[0;32mis\u001b[0m \u001b[0;32mnot\u001b[0m \u001b[0;32mNone\u001b[0m\u001b[0;34m:\u001b[0m\u001b[0;34m\u001b[0m\u001b[0;34m\u001b[0m\u001b[0m\n",
            "\u001b[0;32m/usr/local/lib/python3.10/dist-packages/matplotlib/figure.py\u001b[0m in \u001b[0;36mdraw\u001b[0;34m(self, renderer)\u001b[0m\n\u001b[1;32m   3152\u001b[0m \u001b[0;34m\u001b[0m\u001b[0m\n\u001b[1;32m   3153\u001b[0m                 \u001b[0mself\u001b[0m\u001b[0;34m.\u001b[0m\u001b[0mpatch\u001b[0m\u001b[0;34m.\u001b[0m\u001b[0mdraw\u001b[0m\u001b[0;34m(\u001b[0m\u001b[0mrenderer\u001b[0m\u001b[0;34m)\u001b[0m\u001b[0;34m\u001b[0m\u001b[0;34m\u001b[0m\u001b[0m\n\u001b[0;32m-> 3154\u001b[0;31m                 mimage._draw_list_compositing_images(\n\u001b[0m\u001b[1;32m   3155\u001b[0m                     renderer, self, artists, self.suppressComposite)\n\u001b[1;32m   3156\u001b[0m \u001b[0;34m\u001b[0m\u001b[0m\n",
            "\u001b[0;32m/usr/local/lib/python3.10/dist-packages/matplotlib/image.py\u001b[0m in \u001b[0;36m_draw_list_compositing_images\u001b[0;34m(renderer, parent, artists, suppress_composite)\u001b[0m\n\u001b[1;32m    130\u001b[0m     \u001b[0;32mif\u001b[0m \u001b[0mnot_composite\u001b[0m \u001b[0;32mor\u001b[0m \u001b[0;32mnot\u001b[0m \u001b[0mhas_images\u001b[0m\u001b[0;34m:\u001b[0m\u001b[0;34m\u001b[0m\u001b[0;34m\u001b[0m\u001b[0m\n\u001b[1;32m    131\u001b[0m         \u001b[0;32mfor\u001b[0m \u001b[0ma\u001b[0m \u001b[0;32min\u001b[0m \u001b[0martists\u001b[0m\u001b[0;34m:\u001b[0m\u001b[0;34m\u001b[0m\u001b[0;34m\u001b[0m\u001b[0m\n\u001b[0;32m--> 132\u001b[0;31m             \u001b[0ma\u001b[0m\u001b[0;34m.\u001b[0m\u001b[0mdraw\u001b[0m\u001b[0;34m(\u001b[0m\u001b[0mrenderer\u001b[0m\u001b[0;34m)\u001b[0m\u001b[0;34m\u001b[0m\u001b[0;34m\u001b[0m\u001b[0m\n\u001b[0m\u001b[1;32m    133\u001b[0m     \u001b[0;32melse\u001b[0m\u001b[0;34m:\u001b[0m\u001b[0;34m\u001b[0m\u001b[0;34m\u001b[0m\u001b[0m\n\u001b[1;32m    134\u001b[0m         \u001b[0;31m# Composite any adjacent images together\u001b[0m\u001b[0;34m\u001b[0m\u001b[0;34m\u001b[0m\u001b[0m\n",
            "\u001b[0;32m/usr/local/lib/python3.10/dist-packages/matplotlib/artist.py\u001b[0m in \u001b[0;36mdraw_wrapper\u001b[0;34m(artist, renderer)\u001b[0m\n\u001b[1;32m     70\u001b[0m                 \u001b[0mrenderer\u001b[0m\u001b[0;34m.\u001b[0m\u001b[0mstart_filter\u001b[0m\u001b[0;34m(\u001b[0m\u001b[0;34m)\u001b[0m\u001b[0;34m\u001b[0m\u001b[0;34m\u001b[0m\u001b[0m\n\u001b[1;32m     71\u001b[0m \u001b[0;34m\u001b[0m\u001b[0m\n\u001b[0;32m---> 72\u001b[0;31m             \u001b[0;32mreturn\u001b[0m \u001b[0mdraw\u001b[0m\u001b[0;34m(\u001b[0m\u001b[0martist\u001b[0m\u001b[0;34m,\u001b[0m \u001b[0mrenderer\u001b[0m\u001b[0;34m)\u001b[0m\u001b[0;34m\u001b[0m\u001b[0;34m\u001b[0m\u001b[0m\n\u001b[0m\u001b[1;32m     73\u001b[0m         \u001b[0;32mfinally\u001b[0m\u001b[0;34m:\u001b[0m\u001b[0;34m\u001b[0m\u001b[0;34m\u001b[0m\u001b[0m\n\u001b[1;32m     74\u001b[0m             \u001b[0;32mif\u001b[0m \u001b[0martist\u001b[0m\u001b[0;34m.\u001b[0m\u001b[0mget_agg_filter\u001b[0m\u001b[0;34m(\u001b[0m\u001b[0;34m)\u001b[0m \u001b[0;32mis\u001b[0m \u001b[0;32mnot\u001b[0m \u001b[0;32mNone\u001b[0m\u001b[0;34m:\u001b[0m\u001b[0;34m\u001b[0m\u001b[0;34m\u001b[0m\u001b[0m\n",
            "\u001b[0;32m/usr/local/lib/python3.10/dist-packages/matplotlib/axes/_base.py\u001b[0m in \u001b[0;36mdraw\u001b[0;34m(self, renderer)\u001b[0m\n\u001b[1;32m   3068\u001b[0m             \u001b[0m_draw_rasterized\u001b[0m\u001b[0;34m(\u001b[0m\u001b[0mself\u001b[0m\u001b[0;34m.\u001b[0m\u001b[0mfigure\u001b[0m\u001b[0;34m,\u001b[0m \u001b[0martists_rasterized\u001b[0m\u001b[0;34m,\u001b[0m \u001b[0mrenderer\u001b[0m\u001b[0;34m)\u001b[0m\u001b[0;34m\u001b[0m\u001b[0;34m\u001b[0m\u001b[0m\n\u001b[1;32m   3069\u001b[0m \u001b[0;34m\u001b[0m\u001b[0m\n\u001b[0;32m-> 3070\u001b[0;31m         mimage._draw_list_compositing_images(\n\u001b[0m\u001b[1;32m   3071\u001b[0m             renderer, self, artists, self.figure.suppressComposite)\n\u001b[1;32m   3072\u001b[0m \u001b[0;34m\u001b[0m\u001b[0m\n",
            "\u001b[0;32m/usr/local/lib/python3.10/dist-packages/matplotlib/image.py\u001b[0m in \u001b[0;36m_draw_list_compositing_images\u001b[0;34m(renderer, parent, artists, suppress_composite)\u001b[0m\n\u001b[1;32m    130\u001b[0m     \u001b[0;32mif\u001b[0m \u001b[0mnot_composite\u001b[0m \u001b[0;32mor\u001b[0m \u001b[0;32mnot\u001b[0m \u001b[0mhas_images\u001b[0m\u001b[0;34m:\u001b[0m\u001b[0;34m\u001b[0m\u001b[0;34m\u001b[0m\u001b[0m\n\u001b[1;32m    131\u001b[0m         \u001b[0;32mfor\u001b[0m \u001b[0ma\u001b[0m \u001b[0;32min\u001b[0m \u001b[0martists\u001b[0m\u001b[0;34m:\u001b[0m\u001b[0;34m\u001b[0m\u001b[0;34m\u001b[0m\u001b[0m\n\u001b[0;32m--> 132\u001b[0;31m             \u001b[0ma\u001b[0m\u001b[0;34m.\u001b[0m\u001b[0mdraw\u001b[0m\u001b[0;34m(\u001b[0m\u001b[0mrenderer\u001b[0m\u001b[0;34m)\u001b[0m\u001b[0;34m\u001b[0m\u001b[0;34m\u001b[0m\u001b[0m\n\u001b[0m\u001b[1;32m    133\u001b[0m     \u001b[0;32melse\u001b[0m\u001b[0;34m:\u001b[0m\u001b[0;34m\u001b[0m\u001b[0;34m\u001b[0m\u001b[0m\n\u001b[1;32m    134\u001b[0m         \u001b[0;31m# Composite any adjacent images together\u001b[0m\u001b[0;34m\u001b[0m\u001b[0;34m\u001b[0m\u001b[0m\n",
            "\u001b[0;32m/usr/local/lib/python3.10/dist-packages/matplotlib/artist.py\u001b[0m in \u001b[0;36mdraw_wrapper\u001b[0;34m(artist, renderer)\u001b[0m\n\u001b[1;32m     70\u001b[0m                 \u001b[0mrenderer\u001b[0m\u001b[0;34m.\u001b[0m\u001b[0mstart_filter\u001b[0m\u001b[0;34m(\u001b[0m\u001b[0;34m)\u001b[0m\u001b[0;34m\u001b[0m\u001b[0;34m\u001b[0m\u001b[0m\n\u001b[1;32m     71\u001b[0m \u001b[0;34m\u001b[0m\u001b[0m\n\u001b[0;32m---> 72\u001b[0;31m             \u001b[0;32mreturn\u001b[0m \u001b[0mdraw\u001b[0m\u001b[0;34m(\u001b[0m\u001b[0martist\u001b[0m\u001b[0;34m,\u001b[0m \u001b[0mrenderer\u001b[0m\u001b[0;34m)\u001b[0m\u001b[0;34m\u001b[0m\u001b[0;34m\u001b[0m\u001b[0m\n\u001b[0m\u001b[1;32m     73\u001b[0m         \u001b[0;32mfinally\u001b[0m\u001b[0;34m:\u001b[0m\u001b[0;34m\u001b[0m\u001b[0;34m\u001b[0m\u001b[0m\n\u001b[1;32m     74\u001b[0m             \u001b[0;32mif\u001b[0m \u001b[0martist\u001b[0m\u001b[0;34m.\u001b[0m\u001b[0mget_agg_filter\u001b[0m\u001b[0;34m(\u001b[0m\u001b[0;34m)\u001b[0m \u001b[0;32mis\u001b[0m \u001b[0;32mnot\u001b[0m \u001b[0;32mNone\u001b[0m\u001b[0;34m:\u001b[0m\u001b[0;34m\u001b[0m\u001b[0;34m\u001b[0m\u001b[0m\n",
            "\u001b[0;32m/usr/local/lib/python3.10/dist-packages/matplotlib/axis.py\u001b[0m in \u001b[0;36mdraw\u001b[0;34m(self, renderer, *args, **kwargs)\u001b[0m\n\u001b[1;32m   1389\u001b[0m \u001b[0;34m\u001b[0m\u001b[0m\n\u001b[1;32m   1390\u001b[0m         \u001b[0;32mfor\u001b[0m \u001b[0mtick\u001b[0m \u001b[0;32min\u001b[0m \u001b[0mticks_to_draw\u001b[0m\u001b[0;34m:\u001b[0m\u001b[0;34m\u001b[0m\u001b[0;34m\u001b[0m\u001b[0m\n\u001b[0;32m-> 1391\u001b[0;31m             \u001b[0mtick\u001b[0m\u001b[0;34m.\u001b[0m\u001b[0mdraw\u001b[0m\u001b[0;34m(\u001b[0m\u001b[0mrenderer\u001b[0m\u001b[0;34m)\u001b[0m\u001b[0;34m\u001b[0m\u001b[0;34m\u001b[0m\u001b[0m\n\u001b[0m\u001b[1;32m   1392\u001b[0m \u001b[0;34m\u001b[0m\u001b[0m\n\u001b[1;32m   1393\u001b[0m         \u001b[0;31m# Shift label away from axes to avoid overlapping ticklabels.\u001b[0m\u001b[0;34m\u001b[0m\u001b[0;34m\u001b[0m\u001b[0m\n",
            "\u001b[0;32m/usr/local/lib/python3.10/dist-packages/matplotlib/artist.py\u001b[0m in \u001b[0;36mdraw_wrapper\u001b[0;34m(artist, renderer)\u001b[0m\n\u001b[1;32m     70\u001b[0m                 \u001b[0mrenderer\u001b[0m\u001b[0;34m.\u001b[0m\u001b[0mstart_filter\u001b[0m\u001b[0;34m(\u001b[0m\u001b[0;34m)\u001b[0m\u001b[0;34m\u001b[0m\u001b[0;34m\u001b[0m\u001b[0m\n\u001b[1;32m     71\u001b[0m \u001b[0;34m\u001b[0m\u001b[0m\n\u001b[0;32m---> 72\u001b[0;31m             \u001b[0;32mreturn\u001b[0m \u001b[0mdraw\u001b[0m\u001b[0;34m(\u001b[0m\u001b[0martist\u001b[0m\u001b[0;34m,\u001b[0m \u001b[0mrenderer\u001b[0m\u001b[0;34m)\u001b[0m\u001b[0;34m\u001b[0m\u001b[0;34m\u001b[0m\u001b[0m\n\u001b[0m\u001b[1;32m     73\u001b[0m         \u001b[0;32mfinally\u001b[0m\u001b[0;34m:\u001b[0m\u001b[0;34m\u001b[0m\u001b[0;34m\u001b[0m\u001b[0m\n\u001b[1;32m     74\u001b[0m             \u001b[0;32mif\u001b[0m \u001b[0martist\u001b[0m\u001b[0;34m.\u001b[0m\u001b[0mget_agg_filter\u001b[0m\u001b[0;34m(\u001b[0m\u001b[0;34m)\u001b[0m \u001b[0;32mis\u001b[0m \u001b[0;32mnot\u001b[0m \u001b[0;32mNone\u001b[0m\u001b[0;34m:\u001b[0m\u001b[0;34m\u001b[0m\u001b[0;34m\u001b[0m\u001b[0m\n",
            "\u001b[0;32m/usr/local/lib/python3.10/dist-packages/matplotlib/axis.py\u001b[0m in \u001b[0;36mdraw\u001b[0;34m(self, renderer)\u001b[0m\n\u001b[1;32m    293\u001b[0m         for artist in [self.gridline, self.tick1line, self.tick2line,\n\u001b[1;32m    294\u001b[0m                        self.label1, self.label2]:\n\u001b[0;32m--> 295\u001b[0;31m             \u001b[0martist\u001b[0m\u001b[0;34m.\u001b[0m\u001b[0mdraw\u001b[0m\u001b[0;34m(\u001b[0m\u001b[0mrenderer\u001b[0m\u001b[0;34m)\u001b[0m\u001b[0;34m\u001b[0m\u001b[0;34m\u001b[0m\u001b[0m\n\u001b[0m\u001b[1;32m    296\u001b[0m         \u001b[0mrenderer\u001b[0m\u001b[0;34m.\u001b[0m\u001b[0mclose_group\u001b[0m\u001b[0;34m(\u001b[0m\u001b[0mself\u001b[0m\u001b[0;34m.\u001b[0m\u001b[0m__name__\u001b[0m\u001b[0;34m)\u001b[0m\u001b[0;34m\u001b[0m\u001b[0;34m\u001b[0m\u001b[0m\n\u001b[1;32m    297\u001b[0m         \u001b[0mself\u001b[0m\u001b[0;34m.\u001b[0m\u001b[0mstale\u001b[0m \u001b[0;34m=\u001b[0m \u001b[0;32mFalse\u001b[0m\u001b[0;34m\u001b[0m\u001b[0;34m\u001b[0m\u001b[0m\n",
            "\u001b[0;32m/usr/local/lib/python3.10/dist-packages/matplotlib/artist.py\u001b[0m in \u001b[0;36mdraw_wrapper\u001b[0;34m(artist, renderer)\u001b[0m\n\u001b[1;32m     70\u001b[0m                 \u001b[0mrenderer\u001b[0m\u001b[0;34m.\u001b[0m\u001b[0mstart_filter\u001b[0m\u001b[0;34m(\u001b[0m\u001b[0;34m)\u001b[0m\u001b[0;34m\u001b[0m\u001b[0;34m\u001b[0m\u001b[0m\n\u001b[1;32m     71\u001b[0m \u001b[0;34m\u001b[0m\u001b[0m\n\u001b[0;32m---> 72\u001b[0;31m             \u001b[0;32mreturn\u001b[0m \u001b[0mdraw\u001b[0m\u001b[0;34m(\u001b[0m\u001b[0martist\u001b[0m\u001b[0;34m,\u001b[0m \u001b[0mrenderer\u001b[0m\u001b[0;34m)\u001b[0m\u001b[0;34m\u001b[0m\u001b[0;34m\u001b[0m\u001b[0m\n\u001b[0m\u001b[1;32m     73\u001b[0m         \u001b[0;32mfinally\u001b[0m\u001b[0;34m:\u001b[0m\u001b[0;34m\u001b[0m\u001b[0;34m\u001b[0m\u001b[0m\n\u001b[1;32m     74\u001b[0m             \u001b[0;32mif\u001b[0m \u001b[0martist\u001b[0m\u001b[0;34m.\u001b[0m\u001b[0mget_agg_filter\u001b[0m\u001b[0;34m(\u001b[0m\u001b[0;34m)\u001b[0m \u001b[0;32mis\u001b[0m \u001b[0;32mnot\u001b[0m \u001b[0;32mNone\u001b[0m\u001b[0;34m:\u001b[0m\u001b[0;34m\u001b[0m\u001b[0;34m\u001b[0m\u001b[0m\n",
            "\u001b[0;32m/usr/local/lib/python3.10/dist-packages/matplotlib/lines.py\u001b[0m in \u001b[0;36mdraw\u001b[0;34m(self, renderer)\u001b[0m\n\u001b[1;32m    854\u001b[0m                     \u001b[0msnap\u001b[0m \u001b[0;34m=\u001b[0m \u001b[0mrenderer\u001b[0m\u001b[0;34m.\u001b[0m\u001b[0mpoints_to_pixels\u001b[0m\u001b[0;34m(\u001b[0m\u001b[0mself\u001b[0m\u001b[0;34m.\u001b[0m\u001b[0m_markersize\u001b[0m\u001b[0;34m)\u001b[0m \u001b[0;34m>=\u001b[0m \u001b[0msnap\u001b[0m\u001b[0;34m\u001b[0m\u001b[0;34m\u001b[0m\u001b[0m\n\u001b[1;32m    855\u001b[0m                 \u001b[0mgc\u001b[0m\u001b[0;34m.\u001b[0m\u001b[0mset_snap\u001b[0m\u001b[0;34m(\u001b[0m\u001b[0msnap\u001b[0m\u001b[0;34m)\u001b[0m\u001b[0;34m\u001b[0m\u001b[0;34m\u001b[0m\u001b[0m\n\u001b[0;32m--> 856\u001b[0;31m                 \u001b[0mgc\u001b[0m\u001b[0;34m.\u001b[0m\u001b[0mset_joinstyle\u001b[0m\u001b[0;34m(\u001b[0m\u001b[0mmarker\u001b[0m\u001b[0;34m.\u001b[0m\u001b[0mget_joinstyle\u001b[0m\u001b[0;34m(\u001b[0m\u001b[0;34m)\u001b[0m\u001b[0;34m)\u001b[0m\u001b[0;34m\u001b[0m\u001b[0;34m\u001b[0m\u001b[0m\n\u001b[0m\u001b[1;32m    857\u001b[0m                 \u001b[0mgc\u001b[0m\u001b[0;34m.\u001b[0m\u001b[0mset_capstyle\u001b[0m\u001b[0;34m(\u001b[0m\u001b[0mmarker\u001b[0m\u001b[0;34m.\u001b[0m\u001b[0mget_capstyle\u001b[0m\u001b[0;34m(\u001b[0m\u001b[0;34m)\u001b[0m\u001b[0;34m)\u001b[0m\u001b[0;34m\u001b[0m\u001b[0;34m\u001b[0m\u001b[0m\n\u001b[1;32m    858\u001b[0m                 \u001b[0mmarker_path\u001b[0m \u001b[0;34m=\u001b[0m \u001b[0mmarker\u001b[0m\u001b[0;34m.\u001b[0m\u001b[0mget_path\u001b[0m\u001b[0;34m(\u001b[0m\u001b[0;34m)\u001b[0m\u001b[0;34m\u001b[0m\u001b[0;34m\u001b[0m\u001b[0m\n",
            "\u001b[0;32m/usr/local/lib/python3.10/dist-packages/matplotlib/markers.py\u001b[0m in \u001b[0;36mget_joinstyle\u001b[0;34m(self)\u001b[0m\n\u001b[1;32m    296\u001b[0m \u001b[0;34m\u001b[0m\u001b[0m\n\u001b[1;32m    297\u001b[0m     \u001b[0;32mdef\u001b[0m \u001b[0mget_joinstyle\u001b[0m\u001b[0;34m(\u001b[0m\u001b[0mself\u001b[0m\u001b[0;34m)\u001b[0m\u001b[0;34m:\u001b[0m\u001b[0;34m\u001b[0m\u001b[0;34m\u001b[0m\u001b[0m\n\u001b[0;32m--> 298\u001b[0;31m         \u001b[0;32mreturn\u001b[0m \u001b[0mself\u001b[0m\u001b[0;34m.\u001b[0m\u001b[0m_joinstyle\u001b[0m\u001b[0;34m.\u001b[0m\u001b[0mname\u001b[0m\u001b[0;34m\u001b[0m\u001b[0;34m\u001b[0m\u001b[0m\n\u001b[0m\u001b[1;32m    299\u001b[0m \u001b[0;34m\u001b[0m\u001b[0m\n\u001b[1;32m    300\u001b[0m     \u001b[0;32mdef\u001b[0m \u001b[0mget_capstyle\u001b[0m\u001b[0;34m(\u001b[0m\u001b[0mself\u001b[0m\u001b[0;34m)\u001b[0m\u001b[0;34m:\u001b[0m\u001b[0;34m\u001b[0m\u001b[0;34m\u001b[0m\u001b[0m\n",
            "\u001b[0;32m/usr/lib/python3.10/types.py\u001b[0m in \u001b[0;36m__get__\u001b[0;34m(self, instance, ownerclass)\u001b[0m\n\u001b[1;32m    174\u001b[0m         \u001b[0mself\u001b[0m\u001b[0;34m.\u001b[0m\u001b[0m__isabstractmethod__\u001b[0m \u001b[0;34m=\u001b[0m \u001b[0mbool\u001b[0m\u001b[0;34m(\u001b[0m\u001b[0mgetattr\u001b[0m\u001b[0;34m(\u001b[0m\u001b[0mfget\u001b[0m\u001b[0;34m,\u001b[0m \u001b[0;34m'__isabstractmethod__'\u001b[0m\u001b[0;34m,\u001b[0m \u001b[0;32mFalse\u001b[0m\u001b[0;34m)\u001b[0m\u001b[0;34m)\u001b[0m\u001b[0;34m\u001b[0m\u001b[0;34m\u001b[0m\u001b[0m\n\u001b[1;32m    175\u001b[0m \u001b[0;34m\u001b[0m\u001b[0m\n\u001b[0;32m--> 176\u001b[0;31m     \u001b[0;32mdef\u001b[0m \u001b[0m__get__\u001b[0m\u001b[0;34m(\u001b[0m\u001b[0mself\u001b[0m\u001b[0;34m,\u001b[0m \u001b[0minstance\u001b[0m\u001b[0;34m,\u001b[0m \u001b[0mownerclass\u001b[0m\u001b[0;34m=\u001b[0m\u001b[0;32mNone\u001b[0m\u001b[0;34m)\u001b[0m\u001b[0;34m:\u001b[0m\u001b[0;34m\u001b[0m\u001b[0;34m\u001b[0m\u001b[0m\n\u001b[0m\u001b[1;32m    177\u001b[0m         \u001b[0;32mif\u001b[0m \u001b[0minstance\u001b[0m \u001b[0;32mis\u001b[0m \u001b[0;32mNone\u001b[0m\u001b[0;34m:\u001b[0m\u001b[0;34m\u001b[0m\u001b[0;34m\u001b[0m\u001b[0m\n\u001b[1;32m    178\u001b[0m             \u001b[0;32mif\u001b[0m \u001b[0mself\u001b[0m\u001b[0;34m.\u001b[0m\u001b[0m__isabstractmethod__\u001b[0m\u001b[0;34m:\u001b[0m\u001b[0;34m\u001b[0m\u001b[0;34m\u001b[0m\u001b[0m\n",
            "\u001b[0;31mKeyboardInterrupt\u001b[0m: "
          ]
        }
      ]
    },
    {
      "cell_type": "markdown",
      "source": [],
      "metadata": {
        "id": "Gtwg1xsmF82s"
      }
    },
    {
      "cell_type": "markdown",
      "source": [
        "## Lid-Driven Cavity"
      ],
      "metadata": {
        "id": "n6jVwPxVF_F8"
      }
    },
    {
      "cell_type": "code",
      "source": [
        "# utils\n",
        "def central_difference_x(f):\n",
        "    \"\"\"Calculates the central difference approximation of the x-derivative of a 2D field.\"\"\"\n",
        "    dfdx = (np.roll(f, -1, axis=1) - np.roll(f, 1, axis=1)) / (2 * dx)\n",
        "    # Set boundary values to zero\n",
        "    dfdx[:, 0] = 0\n",
        "    dfdx[:, -1] = 0\n",
        "    dfdx[0, :] = 0\n",
        "    dfdx[-1, :] = 0\n",
        "    return dfdx\n",
        "\n",
        "def central_difference_y(f):\n",
        "    \"\"\"Calculates the central difference approximation of the y-derivative of a 2D field.\"\"\"\n",
        "    dfdy = (np.roll(f, -1, axis=0) - np.roll(f, 1, axis=0)) / (2 * dy)\n",
        "\n",
        "    dfdy[:, 0] = 0\n",
        "    dfdy[:, -1] = 0\n",
        "    dfdy[0, :] = 0\n",
        "    dfdy[-1, :] = 0\n",
        "    return dfdy\n",
        "\n",
        "def laplace(f):\n",
        "    \"\"\"Calculates the Laplacian of a 2D field using central differences.\"\"\"\n",
        "    d2fdx2 = (np.roll(f, -1, axis=1) - 2 * f + np.roll(f, 1, axis=1)) / (dx**2)\n",
        "    d2fdy2 = (np.roll(f, -1, axis=0) - 2 * f + np.roll(f, 1, axis=0)) / (dy**2)\n",
        "    laplacian_f = d2fdx2 + d2fdy2\n",
        "\n",
        "    laplacian_f[:, 0] = 0\n",
        "    laplacian_f[:, -1] = 0\n",
        "    laplacian_f[0, :] = 0\n",
        "    laplacian_f[-1, :] = 0\n",
        "\n",
        "    return laplacian_f\n"
      ],
      "metadata": {
        "id": "yDU_PkY5IymT"
      },
      "execution_count": null,
      "outputs": []
    },
    {
      "cell_type": "code",
      "source": [
        "# properties and constants\n",
        "nu = 0.1 # kinematic viscosity\n",
        "rho = 1 # density\n",
        "L = 1 # meter\n",
        "n_elem = 50 # in one direction\n",
        "\n",
        "HORIZONTAL_VELOCITY_TOP = 1\n",
        "poisson_iterations = 50\n",
        "\n",
        "dt = 0.001 # seconds\n",
        "t_final = 1\n",
        "t = np.arange(0, t_final, dt)\n",
        "\n",
        "# discrete space\n",
        "dx = dy = L/(n_elem+2)\n",
        "l_elem = L/(n_elem+2)\n",
        "x = np.linspace(0, L, n_elem+2) # extra elements are for boundaries\n",
        "y = np.linspace(0, L, n_elem+2)\n",
        "X,Y = np.meshgrid(x, y)\n",
        "\n",
        "# stability check\n",
        "max_dt = 0.5*dx*dy/nu\n",
        "print(dt, max_dt)\n",
        "if dt < max_dt:\n",
        "    print(\"Time step is stable\")\n",
        "else:\n",
        "    print(\"Time step is not stable\")"
      ],
      "metadata": {
        "id": "KbaA7nuhWJUt"
      },
      "execution_count": null,
      "outputs": []
    },
    {
      "cell_type": "code",
      "source": [
        "# fields\n",
        "u_prev = np.zeros_like(X)\n",
        "v_prev = np.zeros_like(X)\n",
        "p_prev = np.zeros_like(X)\n",
        "\n",
        "plt.figure(1)\n",
        "for iteration in range(len(t)):\n",
        "    du_dx = central_difference_x(u_prev)\n",
        "    du_dy = central_difference_y(u_prev)\n",
        "    dv_dx = central_difference_x(v_prev)\n",
        "    dv_dy = central_difference_y(v_prev)\n",
        "    laplace_u = laplace(u_prev)\n",
        "    laplace_v = laplace(v_prev)\n",
        "\n",
        "    # momentum equation without the pressure gradient\n",
        "    u_tentative = u_prev + dt * (-(u_prev*du_dx + v_prev*du_dy) + nu * laplace_u)\n",
        "    v_tentative = v_prev + dt * (-(u_prev*dv_dx + v_prev*dv_dy) + nu * laplace_v)\n",
        "\n",
        "    # velocity drichlet boundary condition\n",
        "    u_tentative[0, :] = 0.0\n",
        "    u_tentative[:, 0] = 0.0\n",
        "    u_tentative[:, -1] = 0.0\n",
        "    u_tentative[-1, :] = HORIZONTAL_VELOCITY_TOP\n",
        "    v_tentative[0, :] = 0.0\n",
        "    v_tentative[:, 0] = 0.0\n",
        "    v_tentative[:, -1] = 0.0\n",
        "    v_tentative[-1, :] = 0.0\n",
        "\n",
        "    # pressure corrections by solving the pressure-poisson equation\n",
        "    du_dx = central_difference_x(u_tentative)\n",
        "    dv_dy = central_difference_y(v_tentative)\n",
        "\n",
        "    rhs = rho/dt * (du_dx + dv_dy)\n",
        "    for _ in range(poisson_iterations):\n",
        "        p_next = np.zeros_like(p_prev)\n",
        "        p_next[1:-1, 1:-1] = 1/4 * (\n",
        "            p_prev[1:-1, :-2] +\n",
        "            p_prev[:-2, 1:-1] +\n",
        "            p_prev[2:, 1:-1] +\n",
        "            p_prev[1:-1, 2:] -\n",
        "            dx*dy * rhs[1:-1, 1:-1]\n",
        "        )\n",
        "        # pressure neuman boundary conditions, except top (drichlet)\n",
        "        p_next[:, -1] = p_next[:, -2]\n",
        "        p_next[0,  :] = p_next[1,  :]\n",
        "        p_next[:,  0] = p_next[:,  1]\n",
        "        p_next[-1, :] = 0.0\n",
        "\n",
        "        p_prev = p_next\n",
        "\n",
        "    dp_dx = central_difference_x(p_next)\n",
        "    dp_dy = central_difference_y(p_next)\n",
        "\n",
        "    # velocity correction\n",
        "    u_next = (\n",
        "        u_tentative - dt * (dp_dx / rho)\n",
        "    )\n",
        "    v_next = (\n",
        "        v_tentative - dt * (dp_dy / rho)\n",
        "    )\n",
        "\n",
        "    # velocity drichlet boundary condition\n",
        "    u_next[0, :] = 0.0\n",
        "    u_next[:, 0] = 0.0\n",
        "    u_next[:, -1] = 0.0\n",
        "    u_next[-1, :] = HORIZONTAL_VELOCITY_TOP\n",
        "    v_next[0, :] = 0.0\n",
        "    v_next[:, 0] = 0.0\n",
        "    v_next[:, -1] = 0.0\n",
        "    v_next[-1, :] = 0.0\n",
        "\n",
        "    u_prev = u_next\n",
        "    v_prev = v_next\n",
        "    p_prev = p_next\n",
        "\n",
        "\n",
        "\n",
        "plt.pcolormesh(X, Y, p_next)\n",
        "plt.contourf(X, Y, p_next, 10)\n",
        "plt.quiver(X, Y, u_next, v_next, color=\"black\")\n",
        "plt.xlabel(\"x [m]\")\n",
        "plt.ylabel(\"y [m]\")\n",
        "plt.colorbar()\n",
        "plt.title(f\"Lid Driven Cavity\")\n",
        "plt.show()\n",
        "# display.clear_output(wait=True)\n",
        "\n"
      ],
      "metadata": {
        "id": "viwNHhgIGAM5"
      },
      "execution_count": null,
      "outputs": []
    },
    {
      "cell_type": "code",
      "source": [],
      "metadata": {
        "id": "xS4kmeHzZaL7"
      },
      "execution_count": null,
      "outputs": []
    }
  ],
  "metadata": {
    "kernelspec": {
      "display_name": "Python 3",
      "language": "python",
      "name": "python3"
    },
    "language_info": {
      "codemirror_mode": {
        "name": "ipython",
        "version": 3
      },
      "file_extension": ".py",
      "mimetype": "text/x-python",
      "name": "python",
      "nbconvert_exporter": "python",
      "pygments_lexer": "ipython3",
      "version": "3.12.7"
    },
    "colab": {
      "provenance": []
    }
  },
  "nbformat": 4,
  "nbformat_minor": 0
}