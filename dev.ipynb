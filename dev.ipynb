{
  "cells": [
    {
      "cell_type": "code",
      "execution_count": 1,
      "metadata": {
        "id": "gI_plbeGwfnY"
      },
      "outputs": [],
      "source": [
        "import numpy as np\n",
        "import matplotlib.pyplot as plt"
      ]
    },
    {
      "cell_type": "markdown",
      "source": [
        "## 1D Steady Heat Conduction"
      ],
      "metadata": {
        "id": "cH0BznD_wgnb"
      }
    },
    {
      "cell_type": "code",
      "execution_count": 2,
      "metadata": {
        "id": "qk1aQkEKwfnZ"
      },
      "outputs": [],
      "source": [
        "# Initialize parameters of the question\n",
        "k = 50 # Thermal conductivity, W/K\n",
        "L = 1000e-3 # m\n",
        "A = 75e-6 # m^2\n",
        "# cp = 1 # Specific heat capacity, J/(kg * K)\n",
        "# rho = 1 # kg/m^3\n",
        "# C = cp*rho # J/K, volume specific\n",
        "\n",
        "# boundary conditions\n",
        "T_L = 390 # K, x=0\n",
        "T_R = 290 # K, x=L\n"
      ]
    },
    {
      "cell_type": "code",
      "source": [
        "# discretize the space\n",
        "n_elem = 5\n",
        "n_nodes = n_elem + 1\n",
        "l_elem = L/n_elem\n",
        "nodes_x = np.linspace(0, L, n_nodes)\n",
        "print(\"Positions of nodes\", nodes_x)\n",
        "\n",
        "n_dof = n_elem # degree of freedom of the system\n",
        "\n",
        "CON = [] # connectivity\n",
        "for i in range(n_elem):\n",
        "    CON.append([i, i+1])\n",
        "print(\"Connectivty\", CON)\n",
        "\n",
        "class Element:\n",
        "    def __init__(self, nodes, x, k, l):\n",
        "        self.nodes = nodes\n",
        "        self.x = x\n",
        "        self.k = k\n",
        "        self.l = l\n",
        "\n",
        "    def __repr__(self):\n",
        "        return f\"Element(nodes={self.nodes})\"\n",
        "\n",
        "# create elements\n",
        "elements = []\n",
        "for i in range(n_elem):\n",
        "    x = l_elem*(i+0.5)\n",
        "    elements.append(Element(CON[i], x, k, l_elem))\n",
        "\n",
        "print(\"Elements\", elements)\n"
      ],
      "metadata": {
        "colab": {
          "base_uri": "https://localhost:8080/"
        },
        "id": "f6fz82k4ymj6",
        "outputId": "d355f17c-c204-47e2-92a1-72d873de9a26"
      },
      "execution_count": 3,
      "outputs": [
        {
          "output_type": "stream",
          "name": "stdout",
          "text": [
            "Positions of nodes [0.  0.2 0.4 0.6 0.8 1. ]\n",
            "Connectivty [[0, 1], [1, 2], [2, 3], [3, 4], [4, 5]]\n",
            "Elements [Element(nodes=[0, 1]), Element(nodes=[1, 2]), Element(nodes=[2, 3]), Element(nodes=[3, 4]), Element(nodes=[4, 5])]\n"
          ]
        }
      ]
    },
    {
      "cell_type": "code",
      "source": [
        "# plot elements and nodes\n",
        "for i in range(n_elem):\n",
        "    element = elements[i]\n",
        "    plt.scatter([element.x], [0], color='red', marker=\"x\", label=f\"E_{i}\")\n",
        "    node_1 = element.nodes[0]\n",
        "    node_2 = element.nodes[1]\n",
        "    x1 = nodes_x[node_1]\n",
        "    x2 = nodes_x[node_2]\n",
        "    plt.scatter(x1, 0, color='black', marker=\"o\", label=f\"N_{node_1}\")\n",
        "    plt.scatter(x2, 0, color='black', marker=\"o\", label=f\"N_{node_2}\")\n",
        "\n",
        "# plt.legend()\n",
        "plt.show()"
      ],
      "metadata": {
        "colab": {
          "base_uri": "https://localhost:8080/",
          "height": 430
        },
        "id": "tGwX6E6h0qSy",
        "outputId": "1e2f1533-67c9-48ce-e9a5-a2e462441c9e"
      },
      "execution_count": 5,
      "outputs": [
        {
          "output_type": "display_data",
          "data": {
            "text/plain": [
              "<Figure size 640x480 with 1 Axes>"
            ],
            "image/png": "[encoded data removed]"
          },
          "metadata": {}
        }
      ]
    }
  ],
  "metadata": {
    "kernelspec": {
      "display_name": "Python 3",
      "language": "python",
      "name": "python3"
    },
    "language_info": {
      "codemirror_mode": {
        "name": "ipython",
        "version": 3
      },
      "file_extension": ".py",
      "mimetype": "text/x-python",
      "name": "python",
      "nbconvert_exporter": "python",
      "pygments_lexer": "ipython3",
      "version": "3.12.7"
    },
    "colab": {
      "provenance": []
    }
  },
  "nbformat": 4,
  "nbformat_minor": 0
}