{
 "cells": [
  {
   "cell_type": "code",
   "execution_count": 1,
   "metadata": {
    "id": "gI_plbeGwfnY"
   },
   "outputs": [],
   "source": [
    "import numpy as np\n",
    "import matplotlib.pyplot as plt\n",
    "from matplotlib.animation import FuncAnimation\n",
    "from IPython import display\n",
    "\n",
    "from tqdm import tqdm\n",
    "\n",
    "plt.style.use(\"dark_background\")\n"
   ]
  },
  {
   "cell_type": "markdown",
   "metadata": {
    "id": "idPOSeiqD_kH"
   },
   "source": [
    "## The Finite Volume Method in CFD video series\n",
    "\n",
    "https://youtube.com/playlist?list=PLnJ8lIgfDbkp5DtCPtP2rcqEEUJk-PM8N&si=NvpF64pgI-nEt85i"
   ]
  },
  {
   "cell_type": "markdown",
   "metadata": {
    "id": "Zy5OkiVUND2P"
   },
   "source": [
    "### Classes"
   ]
  },
  {
   "cell_type": "markdown",
   "metadata": {
    "id": "NXcuDbU4Hz50"
   },
   "source": [
    "#### Node, Face, Cell classes\n"
   ]
  },
  {
   "cell_type": "code",
   "execution_count": 14,
   "metadata": {
    "id": "BTm9kvTnEGwt"
   },
   "outputs": [],
   "source": [
    "class Node:\n",
    "    def __init__(self, id, coordinates):\n",
    "        \"\"\"\n",
    "        Initialize a node.\n",
    "        :param id: Global ID for the node.\n",
    "        :param coordinates: Tuple of coordinates (x, y, z).\n",
    "        \"\"\"\n",
    "        self.id = id\n",
    "        self.coordinates = coordinates\n",
    "\n",
    "    #     # TODO: do I even need this?\n",
    "    #     self.neighbors = []  # List of neighboring node IDs\n",
    "\n",
    "\n",
    "    # def add_neighbor(self, neighbor_id):\n",
    "    #     self.neighbors.append(neighbor_id)\n",
    "\n",
    "    def __repr__(self):\n",
    "        return f\"Node(id={self.id}, coordinates={self.coordinates}\" #, neighbors={self.neighbors})\"\n",
    "\n",
    "class Face:\n",
    "    def __init__(self, id, nodes):\n",
    "        \"\"\"\n",
    "        Initialize a face.\n",
    "        :param id: Global ID for the face.\n",
    "        :param nodes: List of node IDs defining the face.\n",
    "        \"\"\"\n",
    "        self.id = id\n",
    "        self.nodes = nodes  # Nodes that make up the face\n",
    "\n",
    "    #     # TODO: do I even need this?\n",
    "    #     self.neighbor_cells = []  # IDs of adjacent cells\n",
    "\n",
    "    # def add_neighbor_cell(self, cell_id):\n",
    "    #     self.neighbor_cells.append(cell_id)\n",
    "\n",
    "    def __repr__(self):\n",
    "        return f\"Face(id={self.id}, nodes={self.nodes}\" #, neighbor_cells={self.neighbor_cells})\"\n",
    "\n",
    "class Cell:\n",
    "    def __init__(self, id, nodes, faces):\n",
    "        \"\"\"\n",
    "        Initialize a cell.\n",
    "        :param id: Global ID for the cell.\n",
    "        :param nodes: List of node IDs defining the cell.\n",
    "        :param faces: List of face IDs defining the cell.\n",
    "        \"\"\"\n",
    "        self.id = id\n",
    "        self.nodes = nodes  # Nodes that make up the cell\n",
    "        self.faces = faces  # Faces that bound the cell\n",
    "        self.neighbor_cells = []  # IDs of adjacent cells\n",
    "\n",
    "        self.flow_variables = {\"T\":None, \"U\":None, \"P\":None}\n",
    "\n",
    "    def add_flow_variable(self, variable, value):\n",
    "        self.flow_variables[variable] = value\n",
    "\n",
    "    def get_flow_variable(self, variable):\n",
    "        return self.flow_variables[variable]\n",
    "\n",
    "    def add_neighbor_cell(self, neighbor_id):\n",
    "        self.neighbor_cells.append(neighbor_id)\n",
    "\n",
    "    def __repr__(self):\n",
    "        return (f\"Cell(id={self.id}, nodes={self.nodes}, faces={self.faces}, \"\n",
    "                f\"neighbor_cells={self.neighbor_cells}, flow_variables={self.flow_variables})\")\n",
    "\n",
    "\n",
    "# Example usage\n",
    "node1 = Node(1, (0.0, 0.0, 0.0))\n",
    "node2 = Node(2, (1.0, 0.0, 0.0))\n",
    "node3 = Node(3, (1.0, 1.0, 0.0))\n",
    "\n",
    "face1 = Face(1, [1, 2])\n",
    "face2 = Face(2, [2, 3])\n",
    "\n",
    "cell1 = Cell(1, [1, 2, 3], [1, 2])\n",
    "\n",
    "cell1.add_neighbor_cell(2)  # Cell 2 is a neighbor\n",
    "# face1.add_neighbor_cell(1)  # Cell 1 is adjacent to face 1\n",
    "# node1.add_neighbor(2)       # Node 2 is a neighbor of Node 1"
   ]
  },
  {
   "cell_type": "markdown",
   "metadata": {
    "id": "cx6VVOwVKZg1",
    "jp-MarkdownHeadingCollapsed": true
   },
   "source": [
    "#### Mesh class"
   ]
  },
  {
   "cell_type": "code",
   "execution_count": 15,
   "metadata": {
    "id": "SK6qUVviKXpl"
   },
   "outputs": [],
   "source": [
    "class Mesh:\n",
    "    def __init__(self, nodes, faces, cells):\n",
    "        \"\"\"\n",
    "        Initialize an empty Mesh object with lists to store nodes, faces, and cells.\n",
    "        \"\"\"\n",
    "        self.nodes = nodes\n",
    "        self.faces = faces\n",
    "        self.cells = cells\n",
    "\n",
    "    def add_node(self, node):\n",
    "        \"\"\"\n",
    "        Add a Node to the mesh.\n",
    "        :param node: Node object to add.\n",
    "        \"\"\"\n",
    "        self.nodes.append(node)\n",
    "\n",
    "    def add_face(self, face):\n",
    "        \"\"\"\n",
    "        Add a Face to the mesh.\n",
    "        :param face: Face object to add.\n",
    "        \"\"\"\n",
    "        self.faces.append(face)\n",
    "\n",
    "    def add_cell(self, cell):\n",
    "        \"\"\"\n",
    "        Add a Cell to the mesh.\n",
    "        :param cell: Cell object to add.\n",
    "        \"\"\"\n",
    "        self.cells.append(cell)\n",
    "\n",
    "    def get_node(self, node_id):\n",
    "        \"\"\"\n",
    "        Retrieve a Node by its ID.\n",
    "        :param node_id: ID of the Node to retrieve.\n",
    "        :return: Node object.\n",
    "        \"\"\"\n",
    "        return next(node for node in self.nodes if node.id == node_id)\n",
    "\n",
    "    def get_face(self, face_id):\n",
    "        \"\"\"\n",
    "        Retrieve a Face by its ID.\n",
    "        :param face_id: ID of the Face to retrieve.\n",
    "        :return: Face object.\n",
    "        \"\"\"\n",
    "        return next(face for face in self.faces if face.id == face_id)\n",
    "\n",
    "    def get_cell(self, cell_id):\n",
    "        \"\"\"\n",
    "        Retrieve a Cell by its ID.\n",
    "        :param cell_id: ID of the Cell to retrieve.\n",
    "        :return: Cell object.\n",
    "        \"\"\"\n",
    "        return next(cell for cell in self.cells if cell.id == cell_id)\n",
    "\n",
    "    def compute_cell_connectivity(self):\n",
    "        \"\"\"\n",
    "        Compute and assign neighbors for each cell based on shared faces.\n",
    "        \"\"\"\n",
    "        face_to_cells = {}\n",
    "\n",
    "        # Map faces to the cells they belong to\n",
    "        for cell in self.cells:\n",
    "            for face_id in cell.faces:\n",
    "                if face_id not in face_to_cells:\n",
    "                    face_to_cells[face_id] = []\n",
    "                face_to_cells[face_id].append(cell.id)\n",
    "\n",
    "        # Assign neighbors using shared faces\n",
    "        for face_id, cell_ids in face_to_cells.items():\n",
    "            if len(cell_ids) > 1:  # A face shared by more than one cell\n",
    "                for i, cell_id in enumerate(cell_ids):\n",
    "                    for neighbor_id in cell_ids[:i] + cell_ids[i + 1:]:\n",
    "                        self.get_cell(cell_id).add_neighbor_cell(neighbor_id)\n",
    "\n",
    "    def print_detailed_info(self, config = \"NFC\"):\n",
    "        \"\"\"\n",
    "        Print detailed information about the mesh, including nodes, faces, and cells.\n",
    "        \"\"\"\n",
    "        if \"N\" in config:\n",
    "            print(\"Nodes:\")\n",
    "            for node in self.nodes:\n",
    "                print(node)\n",
    "        if \"F\" in config:\n",
    "            print(\"Faces:\")\n",
    "            for face in self.faces:\n",
    "                print(face)\n",
    "        if \"C\" in config:\n",
    "            print(\"Cells:\")\n",
    "            for cell in self.cells:\n",
    "                print(cell)\n",
    "\n",
    "    def plot(self):\n",
    "        \"\"\"\n",
    "        Plot the mesh using the plot_system function.\n",
    "        \"\"\"\n",
    "        plot_system(self.nodes, self.faces, self.cells)\n",
    "\n",
    "    def __repr__(self):\n",
    "        \"\"\"\n",
    "        Return a string representation of the Mesh object.\n",
    "        \"\"\"\n",
    "        return (f\"Mesh(\\n\"\n",
    "                f\"  Nodes: {len(self.nodes)},\\n\"\n",
    "                f\"  Faces: {len(self.faces)},\\n\"\n",
    "                f\"  Cells: {len(self.cells)}\\n)\")\n"
   ]
  },
  {
   "cell_type": "markdown",
   "metadata": {
    "id": "wgcdQ4onMDl2"
   },
   "source": [
    "### Utils"
   ]
  },
  {
   "cell_type": "markdown",
   "metadata": {
    "id": "b4lltlWPMkE2",
    "jp-MarkdownHeadingCollapsed": true
   },
   "source": [
    "#### Creating mesh for choosen system of geometry"
   ]
  },
  {
   "cell_type": "code",
   "execution_count": 16,
   "metadata": {
    "id": "UnwTOHjxL_pt"
   },
   "outputs": [],
   "source": [
    "def create_2d_rectangular_mesh(system_size, num_cells):\n",
    "    \"\"\"\n",
    "    Create a 2D rectangular mesh with the given system size and number of cells.\n",
    "    :param system_size: Tuple (width, height) of the system.\n",
    "    :param num_cells: Tuple (nx, ny) with the number of cells in the x and y directions.\n",
    "    :return: Lists of nodes, faces, and cells.\n",
    "    \"\"\"\n",
    "    width, height = system_size\n",
    "    nx, ny = num_cells\n",
    "\n",
    "    # Generate nodes\n",
    "    dx = width / nx\n",
    "    dy = height / ny\n",
    "    nodes = []\n",
    "    node_id = 0\n",
    "    node_map = {}  # Maps (i, j) to node ID\n",
    "    for j in range(ny + 1):\n",
    "        for i in range(nx + 1):\n",
    "            x = i * dx\n",
    "            y = j * dy\n",
    "            nodes.append(Node(node_id, (x, y)))\n",
    "            node_map[(i, j)] = node_id\n",
    "            node_id += 1\n",
    "\n",
    "    # Generate faces\n",
    "    faces = []\n",
    "    face_id = 0\n",
    "    face_map = {}  # To ensure unique face IDs\n",
    "    for j in range(ny):\n",
    "        for i in range(nx):\n",
    "            # Vertical face (left)\n",
    "            left_face_nodes = [node_map[(i, j)], node_map[(i, j + 1)]]\n",
    "            if tuple(left_face_nodes) not in face_map:\n",
    "                faces.append(Face(face_id, left_face_nodes))\n",
    "                face_map[tuple(left_face_nodes)] = face_id\n",
    "                face_id += 1\n",
    "\n",
    "            # Horizontal face (bottom)\n",
    "            bottom_face_nodes = [node_map[(i, j)], node_map[(i + 1, j)]]\n",
    "            if tuple(bottom_face_nodes) not in face_map:\n",
    "                faces.append(Face(face_id, bottom_face_nodes))\n",
    "                face_map[tuple(bottom_face_nodes)] = face_id\n",
    "                face_id += 1\n",
    "\n",
    "            if i == nx - 1:\n",
    "                right_face_nodes = [node_map[(i + 1, j)], node_map[(i + 1, j + 1)]]\n",
    "                faces.append(Face(face_id, right_face_nodes))\n",
    "                face_map[tuple(sorted(right_face_nodes))] = face_id\n",
    "                face_id += 1\n",
    "\n",
    "            if j == ny - 1:\n",
    "                top_face_nodes = [node_map[(i, j + 1)], node_map[(i + 1, j + 1)]]\n",
    "                faces.append(Face(face_id, top_face_nodes))\n",
    "                face_map[tuple(sorted(top_face_nodes))] = face_id\n",
    "                face_id += 1\n",
    "\n",
    "\n",
    "    # Generate cells\n",
    "    cells = []\n",
    "    cell_id = 0\n",
    "    for j in range(ny):\n",
    "        for i in range(nx):\n",
    "            cell_nodes = [\n",
    "                node_map[(i, j)],\n",
    "                node_map[(i + 1, j)],\n",
    "                node_map[(i + 1, j + 1)],\n",
    "                node_map[(i, j + 1)],\n",
    "            ]\n",
    "            cell_faces = [\n",
    "                face_map[tuple(sorted([node_map[(i, j)], node_map[(i, j + 1)]]))],  # Left\n",
    "                face_map[tuple(sorted([node_map[(i, j)], node_map[(i + 1, j)]]))],  # Bottom\n",
    "                face_map[tuple(sorted([node_map[(i + 1, j)], node_map[(i + 1, j + 1)]]))],  # Right\n",
    "                face_map[tuple(sorted([node_map[(i, j + 1)], node_map[(i + 1, j + 1)]]))],  # Top\n",
    "            ]\n",
    "            cells.append(Cell(cell_id, cell_nodes, cell_faces))\n",
    "            cell_id += 1\n",
    "\n",
    "    return nodes, faces, cells\n"
   ]
  },
  {
   "cell_type": "markdown",
   "metadata": {
    "id": "XuFRgYdmMrgN",
    "jp-MarkdownHeadingCollapsed": true
   },
   "source": [
    "#### Plotting"
   ]
  },
  {
   "cell_type": "code",
   "execution_count": 26,
   "metadata": {
    "id": "Q7YnmyvfMpy3"
   },
   "outputs": [],
   "source": [
    "def plot_system(nodes, faces, cells):\n",
    "    \"\"\"\n",
    "    Plot the system defined by nodes, faces, and cells.\n",
    "    :param nodes: List of Node objects.\n",
    "    :param faces: List of Face objects.\n",
    "    :param cells: List of Cell objects.\n",
    "    \"\"\"\n",
    "    fig, ax = plt.subplots(figsize=(8, 8))\n",
    "    fontsize = 16\n",
    "    colors = {\n",
    "        \"Node\": \"blue\",\n",
    "        \"Face\": \"green\",\n",
    "        \"Cell\": \"orange\"\n",
    "    }\n",
    "\n",
    "    # Plot faces\n",
    "    for face in faces:\n",
    "        node_coords = [nodes[node_id].coordinates for node_id in face.nodes]\n",
    "        x_coords, y_coords = zip(*node_coords)\n",
    "        ax.plot(x_coords, y_coords, color=colors[\"Face\"], label=\"Face\" if face.id == 0 else None, linewidth=4)\n",
    "        mid_x, mid_y = sum(x_coords) / 2, sum(y_coords) / 2\n",
    "        ax.text(mid_x, mid_y, f'{face.id}', color=colors[\"Face\"], fontsize=fontsize)\n",
    "\n",
    "    # Plot cells\n",
    "    for cell in cells:\n",
    "        cell_coords = [nodes[node_id].coordinates for node_id in cell.nodes]\n",
    "        x_coords, y_coords = zip(*cell_coords + [cell_coords[0]])  # Close the polygon\n",
    "        ax.plot(x_coords, y_coords, color=colors[\"Cell\"], label=\"Cell\" if cell.id == 0 else None, linewidth = 1)\n",
    "        center_x = sum(coord[0] for coord in cell_coords) / len(cell_coords)\n",
    "        center_y = sum(coord[1] for coord in cell_coords) / len(cell_coords)\n",
    "        ax.text(center_x, center_y, f'{cell.id}', color=colors[\"Cell\"], fontsize=fontsize)\n",
    "\n",
    "    # Plot nodes\n",
    "    for node in nodes:\n",
    "        x, y = node.coordinates\n",
    "        ax.plot(x, y, 'o', color=colors[\"Node\"], label=\"Node\" if node.id == 0 else None, linewidth = 1)\n",
    "        ax.text(x, y, f'{node.id}', color=colors[\"Node\"], fontsize=fontsize, ha='left', va='bottom')\n",
    "\n",
    "\n",
    "    # Configure plot\n",
    "    ax.set_aspect('equal')\n",
    "    ax.set_title(\"System Plot\")\n",
    "    ax.set_xlabel(\"X Coordinate\")\n",
    "    ax.set_ylabel(\"Y Coordinate\")\n",
    "    ax.legend(loc=\"upper right\", fontsize=10)\n",
    "    # plt.grid(True)\n",
    "    plt.show()\n",
    "\n",
    "def plot_scalar_field(mesh, variable_name, num_cells, system_size, plot_mesh = False):\n",
    "    \"\"\"\n",
    "    Plot a scalar field (e.g., 'T', 'P') using a pseudocolor map (pcolormesh).\n",
    "    :param mesh: Mesh object containing cells.\n",
    "    :param variable_name: Name of the scalar field to plot ('T', 'P').\n",
    "    :param num_cells: Tuple indicating the number of cells in (x, y) directions.\n",
    "    #:param system_size: Tuple indicating the system size (width, height).\n",
    "    \"\"\"\n",
    "    # Extract the flow variable values for each cell\n",
    "    scalar_field = np.array([\n",
    "        cell.flow_variables.get(variable_name, None) for cell in mesh.cells\n",
    "    ])\n",
    "\n",
    "    if None in scalar_field:\n",
    "        print(f\"Warning: Some cells do not have values for {variable_name}. Setting to NaN.\")\n",
    "        scalar_field = np.array([val if val is not None else np.nan for val in scalar_field])\n",
    "\n",
    "    # Reshape the scalar field into a 2D grid based on num_cells\n",
    "    scalar_field_2d = scalar_field.reshape(num_cells)\n",
    "\n",
    "    cell_size = (system_size[0] / num_cells[0], system_size[1] / num_cells[1])\n",
    "    # Create a grid for cell centers\n",
    "    x_centers = np.linspace(0, system_size[0], num_cells[0] + 1)[:-1] + cell_size[0] / 2\n",
    "    y_centers = np.linspace(0, system_size[1], num_cells[1] + 1)[:-1] + cell_size[1] / 2\n",
    "    X, Y = np.meshgrid(x_centers, y_centers)\n",
    "\n",
    "    plt.figure(figsize=(8, 6))\n",
    "\n",
    "    # Plot the pseudocolor map\n",
    "    cmap = \"coolwarm\"  # \"viridis\", \"plasma\", \"coolwarm\"\n",
    "    plt.pcolormesh(X, Y, scalar_field_2d.T, cmap=cmap, shading='auto')\n",
    "    plt.colorbar(label=variable_name)\n",
    "    plt.xlabel(\"X\")\n",
    "    plt.ylabel(\"Y\")\n",
    "    plt.title(f\"Pseudocolor map of {variable_name}\")\n",
    "\n",
    "    if plot_mesh:\n",
    "        fontsize = 12\n",
    "        colors = {\n",
    "            \"Node\": \"blue\",\n",
    "            \"Face\": \"green\",\n",
    "            \"Cell\": \"orange\"\n",
    "        }\n",
    "        # Plot faces\n",
    "        for face in mesh.faces:\n",
    "            node_coords = [mesh.nodes[node_id].coordinates for node_id in face.nodes]\n",
    "            x_coords, y_coords = zip(*node_coords)\n",
    "            plt.plot(x_coords, y_coords, color=colors[\"Face\"], label=\"Face\" if face.id == 0 else None, linewidth=4)\n",
    "            mid_x, mid_y = sum(x_coords) / 2, sum(y_coords) / 2\n",
    "            plt.text(mid_x, mid_y, f'{face.id}', color=colors[\"Face\"], fontsize=fontsize)\n",
    "        # Plot cells\n",
    "        for cell in mesh.cells:\n",
    "            cell_coords = [mesh.nodes[node_id].coordinates for node_id in cell.nodes]\n",
    "            x_coords, y_coords = zip(*cell_coords + [cell_coords[0]])  # Close the polygon\n",
    "            plt.plot(x_coords, y_coords, color=colors[\"Cell\"], label=\"Cell\" if cell.id == 0 else None, linewidth = 1)\n",
    "            center_x = sum(coord[0] for coord in cell_coords) / len(cell_coords)\n",
    "            center_y = sum(coord[1] for coord in cell_coords) / len(cell_coords)\n",
    "            plt.text(center_x, center_y, f'{cell.id}', color=colors[\"Cell\"], fontsize=fontsize)\n",
    "        # Plot nodes\n",
    "        for node in mesh.nodes:\n",
    "            x, y = node.coordinates\n",
    "            plt.plot(x, y, 'o', color=colors[\"Node\"], label=\"Node\" if node.id == 0 else None, linewidth = 1)\n",
    "            plt.text(x, y, f'{node.id}', color=colors[\"Node\"], fontsize=fontsize, ha='left', va='bottom')\n",
    "\n",
    "\n",
    "    plt.show()\n"
   ]
  },
  {
   "cell_type": "markdown",
   "metadata": {
    "id": "P8mR_ONsRi7H"
   },
   "source": [
    "#### Calculating Volume"
   ]
  },
  {
   "cell_type": "code",
   "execution_count": 18,
   "metadata": {
    "id": "3ArzwHU1RmRW"
   },
   "outputs": [],
   "source": [
    "def get_cell_centroid(mesh, cell):\n",
    "    \"\"\"\n",
    "    Compute the centroid of a given cell\n",
    "    :param mesh: Mesh object\n",
    "    :param cell: Cell object\n",
    "    :return: Centroid of the cell\n",
    "    \"\"\"\n",
    "    return np.mean([mesh.nodes[node_id].coordinates for node_id in cell.nodes], axis=0)\n",
    "\n",
    "def get_face_centroid(mesh, face):\n",
    "    \"\"\"\n",
    "    Compute the centroid of a given face\n",
    "    :param mesh: Mesh object\n",
    "    :param face: Face object\n",
    "    :return: Centroid of the face\n",
    "    \"\"\"\n",
    "    return np.mean([mesh.nodes[node_id].coordinates for node_id in face.nodes], axis=0)\n",
    "\n",
    "def get_face_area(mesh, face):\n",
    "    \"\"\"\n",
    "    Compute the surface area of a given face\n",
    "    :param mesh: Mesh object\n",
    "    :param face: Face object\n",
    "    :return: Surface area of the face\n",
    "    \"\"\"\n",
    "    node_1 = mesh.get_node(face.nodes[0]); node_2 = mesh.get_node(face.nodes[1])\n",
    "    node_1_coords = np.array(node_1.coordinates); node_2_coords = np.array(node_2.coordinates)\n",
    "    return np.linalg.norm(node_2_coords - node_1_coords)\n",
    "\n",
    "def get_face_normal_vector(mesh, face, x_f):\n",
    "    \"\"\"\n",
    "    Compute the normal vector of a given face\n",
    "    :param mesh: Mesh object\n",
    "    :param face: Face object\n",
    "    :param x_f: Vector from the cell centroid to the face midpoint\n",
    "    :return: Normal vector of the face\n",
    "    \"\"\"\n",
    "    node_1 = mesh.get_node(face.nodes[0]); node_2 = mesh.get_node(face.nodes[1])\n",
    "    node_1_coords = np.array(node_1.coordinates); node_2_coords = np.array(node_2.coordinates)\n",
    "    v = node_2_coords - node_1_coords\n",
    "    n_f = np.array([-v[1], v[0]]) / np.linalg.norm(np.array([-v[1], v[0]]))\n",
    "\n",
    "    if np.dot(n_f, x_f) < 0: # make sure normal is pointing outwards\n",
    "        return -n_f\n",
    "    else:\n",
    "        return n_f\n",
    "\n",
    "\n",
    "def compute_cell_volume(mesh, cell):\n",
    "    \"\"\"\n",
    "    Compute the volume of a given cell\n",
    "    :param mesh: Mesh object\n",
    "    :param cell: Cell object\n",
    "    :return: Volume of the cell.\n",
    "    \"\"\"\n",
    "    total_volume = 0.0\n",
    "    cell_centroid = get_cell_centroid(mesh, cell)\n",
    "\n",
    "    for face_id in cell.faces:\n",
    "        face_centroid = get_face_centroid(mesh, mesh.get_face(face_id))\n",
    "        A_f = get_face_area(mesh, mesh.get_face(face_id))\n",
    "        x_f = face_centroid - cell_centroid # vector from the cell centroid to the face midpoint\n",
    "        n_f = get_face_normal_vector(mesh, mesh.get_face(face_id), x_f)\n",
    "\n",
    "        total_volume += np.abs(1/2 * np.dot(x_f, n_f) * A_f) # 1/3 if 3D\n",
    "    return total_volume\n"
   ]
  },
  {
   "cell_type": "markdown",
   "metadata": {
    "id": "TmJivAMNwpCw"
   },
   "source": [
    "#### Gradient schemes"
   ]
  },
  {
   "cell_type": "code",
   "execution_count": null,
   "metadata": {
    "id": "FQZQ4L_Goeug"
   },
   "outputs": [],
   "source": [
    "def assign_field_to_cells(mesh, field, field_key = \"T\"):\n",
    "    \"\"\"\n",
    "    Assigns given field to cells based on their IDs.\n",
    "    :param mesh: Mesh object\n",
    "    :param field: Field of values, with the same length as the number of cells: scalar->(Nx1), vector->(Nx2)\n",
    "    :param field_key: Key for the field in the cell object\n",
    "    \"\"\"\n",
    "\n",
    "    if len(field) != len(mesh.cells):\n",
    "        raise ValueError(\"Field and mesh must have the same number of cells.\")\n",
    "    if field_key not in [\"T\", \"U\", \"P\"]:\n",
    "        raise ValueError(\"Invalid field key. Must be 'T', 'U', or 'P'.\")\n",
    "\n",
    "    for cell in mesh.cells:\n",
    "        cell.add_flow_variable(field_key, field[cell.id])\n",
    "\n",
    "\n",
    "def green_gauss_gradient(mesh, cell, field_key = \"T\", is_cell_based = True):\n",
    "    \"\"\"\n",
    "    Compute the gradient of a field in a cell using the cell based or node based green-gauss method.\n",
    "    :param mesh: Mesh object containing nodes, faces, and cells.\n",
    "    :param cell: Cell object for which the gradient is computed.\n",
    "    :param field_key: Key for the field variable (e.g., \"T\", \"P\").\n",
    "    :poram is_cell_based: If True uses cell based, else node based\n",
    "    :return: Gradient as a numpy array.\n",
    "    \"\"\"\n",
    "    gradient = np.zeros(2)\n",
    "\n",
    "    cell_value = cell.get_flow_variable(field_key)\n",
    "    cell_centroid = get_cell_centroid(mesh, cell)\n",
    "    for face_id in cell.faces:\n",
    "        face_centroid = get_face_centroid(mesh, mesh.get_face(face_id))\n",
    "        A_f = get_face_area(mesh, mesh.get_face(face_id))\n",
    "        x_f = face_centroid - cell_centroid\n",
    "        n_f = get_face_normal_vector(mesh, mesh.get_face(face_id), x_f)\n",
    "        value_f = cell_value\n",
    "\n",
    "        if is_cell_based:\n",
    "            # get neighbour\n",
    "            for neighbour_id in cell.neighbor_cells:\n",
    "                if face_id in mesh.get_cell(neighbour_id).faces:\n",
    "                    neighbour_cell = mesh.get_cell(neighbour_id) # neighbour cell for the given face\n",
    "                    value_N = neighbour_cell.get_flow_variable(field_key)\n",
    "                    x_N = get_cell_centroid(mesh, neighbour_cell)\n",
    "                    f = np.linalg.norm(x_f - x_N) / np.linalg.norm(cell_centroid - x_N)\n",
    "                    # f = 0.5 # f is wrong\n",
    "                    print(f)\n",
    "                    value_f = cell_value*f + value_N*(1-f)\n",
    "                    break\n",
    "\n",
    "        else: # node based\n",
    "            value_f = 0\n",
    "\n",
    "        gradient += value_f * n_f * A_f\n",
    "\n",
    "    gradient /= compute_cell_volume(mesh, cell)\n",
    "\n",
    "    return gradient\n",
    "\n",
    "def least_squares_gradient(mesh, cell, field_key=\"T\"):\n",
    "    \"\"\"\n",
    "    Compute the gradient of a field in a cell using the least squares method.\n",
    "\n",
    "    :param mesh: Mesh object containing nodes, faces, and cells.\n",
    "    :param cell: Cell object for which the gradient is computed.\n",
    "    :param field_key: Key for the field variable (e.g., \"T\", \"P\").\n",
    "    :return: Gradient as a numpy array.\n",
    "    \"\"\"\n",
    "    cell_value = cell.get_flow_variable(field_key)\n",
    "    cell_centroid = get_cell_centroid(mesh, cell)\n",
    "\n",
    "    cell_value = cell.get_flow_variable(field_key)\n",
    "    cell_centroid = get_cell_centroid(mesh, cell)\n",
    "\n",
    "    A_list = []\n",
    "    b_list = []\n",
    "\n",
    "    for neighbor_id in cell.neighbor_cells:\n",
    "        neighbor_cell = mesh.get_cell(neighbor_id)\n",
    "        neighbor_value = neighbor_cell.get_flow_variable(field_key)\n",
    "        neighbor_centroid = get_cell_centroid(mesh, neighbor_cell)\n",
    "\n",
    "        d = neighbor_centroid - cell_centroid # Vector between cell centroids\n",
    "        weight = 1.0 / (np.linalg.norm(d) + 1e-10)  # Inverse distance weighting\n",
    "\n",
    "        A_list.append(weight * d)  # Each row in A is the weighted distance vector\n",
    "        b_list.append(weight * (neighbor_value - cell_value))  # Difference in values\n",
    "\n",
    "    A = np.array(A_list)  # A is an (N x 2) matrix\n",
    "    b = np.array(b_list)  # b is a (N x 1) vector\n",
    "\n",
    "    gradient, _, _, _ = np.linalg.lstsq(A, b, rcond=None)\n",
    "\n",
    "    return gradient[::-1]\n"
   ]
  },
  {
   "cell_type": "markdown",
   "metadata": {
    "id": "WQRFKKThQ-fc"
   },
   "source": [
    "### Steps for FVM"
   ]
  },
  {
   "cell_type": "markdown",
   "metadata": {
    "id": "XhcDsav_H6jI"
   },
   "source": [
    "#### Creating a mesh"
   ]
  },
  {
   "cell_type": "code",
   "execution_count": 164,
   "metadata": {
    "colab": {
     "base_uri": "https://localhost:8080/",
     "height": 1000
    },
    "id": "OHWh3gYbGIWY",
    "outputId": "6b8ababd-baf8-4c00-da66-6c16e71c9dcf"
   },
   "outputs": [
    {
     "data": {
      "image/png": "[encoded data removed]",
      "text/plain": [
       "<Figure size 800x800 with 1 Axes>"
      ]
     },
     "metadata": {},
     "output_type": "display_data"
    }
   ],
   "source": [
    "# Example Usage\n",
    "system_size = (3, 3)  # Width and height of the system\n",
    "num_cells = (3, 3)  # Number of cells in x and y directions\n",
    "mesh = Mesh(*create_2d_rectangular_mesh(system_size, num_cells))\n",
    "mesh.compute_cell_connectivity()\n",
    "\n",
    "# print(mesh)\n",
    "# mesh.print_detailed_info()\n",
    "# for cell in mesh.cells:\n",
    "#     print(cell)\n",
    "\n",
    "mesh.plot()"
   ]
  },
  {
   "cell_type": "markdown",
   "metadata": {
    "id": "lkNwM4ZfzHfS"
   },
   "source": [
    "#### Assigning flow variables to cells based on a field"
   ]
  },
  {
   "cell_type": "code",
   "execution_count": 165,
   "metadata": {
    "colab": {
     "base_uri": "https://localhost:8080/",
     "height": 763
    },
    "id": "5deYZfBTzVLY",
    "outputId": "d988a3aa-3054-4956-966f-a89ce2e3ca58"
   },
   "outputs": [
    {
     "data": {
      "image/png": "[encoded data removed]",
      "text/plain": [
       "<Figure size 800x600 with 2 Axes>"
      ]
     },
     "metadata": {},
     "output_type": "display_data"
    }
   ],
   "source": [
    "# temp_field = np.ones(num_cells) * 290 + np.random.randn(*num_cells) * 10\n",
    "# pressure_field = np.ones(num_cells) * 101\n",
    "# assign_field_to_cells(mesh, pressure_field.flatten(), \"P\")\n",
    "# velocity_field = np.ones((*num_cells,2)) * 0\n",
    "# velocity_field = velocity_field.reshape(-1, 2)\n",
    "# assign_field_to_cells(mesh, velocity_field, \"U\")\n",
    "\n",
    "temp_field = np.array([\n",
    "    [1,2,3],\n",
    "    [4,5,6],\n",
    "    [7,8,9]\n",
    "]) * 10\n",
    "temp_field = np.array([\n",
    "    [1,1,1],\n",
    "    [4,4,4],\n",
    "    [7,7,7]\n",
    "]) * 10\n",
    "\n",
    "temp_field = np.array([\n",
    "    [1,250,1],\n",
    "    [100,200,200],\n",
    "    [7,150,7]\n",
    "])\n",
    "temp_field = np.flip(temp_field.T, axis=1) # necessary to assign first row top, last row bottom part of mesh\n",
    "assign_field_to_cells(mesh, temp_field.flatten(), \"T\")\n",
    "# mesh.print_detailed_info(\"C\")\n",
    "plot_scalar_field(mesh, \"T\", num_cells, system_size, plot_mesh=True)\n"
   ]
  },
  {
   "cell_type": "markdown",
   "metadata": {
    "id": "LkDSXTNrQ2S9"
   },
   "source": [
    "#### Calculating cell volumes"
   ]
  },
  {
   "cell_type": "code",
   "execution_count": 189,
   "metadata": {
    "colab": {
     "base_uri": "https://localhost:8080/"
    },
    "id": "kUKUH1DBQyY2",
    "outputId": "a3fd49ce-43cd-4fe9-d371-b42196a31937"
   },
   "outputs": [
    {
     "name": "stderr",
     "output_type": "stream",
     "text": [
      "ic| cell_volumes: [0.25, 0.25, 0.25, 0.25]\n"
     ]
    },
    {
     "data": {
      "text/plain": [
       "[0.25, 0.25, 0.25, 0.25]"
      ]
     },
     "execution_count": 189,
     "metadata": {},
     "output_type": "execute_result"
    }
   ],
   "source": [
    "cell_volumes = []\n",
    "for cell in mesh.cells:\n",
    "    cell_nodes = [mesh.get_node(node_id) for node_id in cell.nodes]\n",
    "    cell_volume = compute_cell_volume(mesh, cell)\n",
    "    cell_volumes.append(cell_volume)\n",
    "print(cell_volumes)\n"
   ]
  },
  {
   "cell_type": "markdown",
   "metadata": {
    "id": "YW3bheiooblR"
   },
   "source": [
    "#### Calculating gradient of a field in the system"
   ]
  },
  {
   "cell_type": "code",
   "execution_count": 180,
   "metadata": {},
   "outputs": [
    {
     "name": "stdout",
     "output_type": "stream",
     "text": [
      "[-115.13878189 -150.        ]\n",
      "[50. 50.]\n"
     ]
    }
   ],
   "source": [
    "cell = mesh.get_cell(4)\n",
    "grad = green_gauss_gradient(mesh, cell, field_key = \"T\", is_cell_based = True)\n",
    "print(grad)\n",
    "\n",
    "grad = least_squares_gradient(mesh, cell, field_key = \"T\") # this works correctly\n",
    "print(grad)\n"
   ]
  }
 ],
 "metadata": {
  "colab": {
   "provenance": []
  },
  "kernelspec": {
   "display_name": "base",
   "language": "python",
   "name": "python3"
  },
  "language_info": {
   "codemirror_mode": {
    "name": "ipython",
    "version": 3
   },
   "file_extension": ".py",
   "mimetype": "text/x-python",
   "name": "python",
   "nbconvert_exporter": "python",
   "pygments_lexer": "ipython3",
   "version": "3.12.4"
  }
 },
 "nbformat": 4,
 "nbformat_minor": 4
}
